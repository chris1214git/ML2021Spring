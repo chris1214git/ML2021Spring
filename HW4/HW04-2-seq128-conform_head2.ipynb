{
 "cells": [
  {
   "cell_type": "code",
   "execution_count": 1,
   "metadata": {},
   "outputs": [
    {
     "name": "stdout",
     "output_type": "stream",
     "text": [
      "cuda: 1\n"
     ]
    }
   ],
   "source": [
    "import torch\n",
    "torch.cuda.set_device(1)\n",
    "print('cuda:', torch.cuda.current_device())\n",
    "device = \"cuda\" if torch.cuda.is_available() else \"cpu\""
   ]
  },
  {
   "cell_type": "markdown",
   "metadata": {
    "id": "v1gYr_aoNDue"
   },
   "source": [
    "# Data"
   ]
  },
  {
   "cell_type": "markdown",
   "metadata": {
    "id": "Mz_NpuAipk3h"
   },
   "source": [
    "## Dataset\n",
    "- Original dataset is [Voxceleb1](https://www.robots.ox.ac.uk/~vgg/data/voxceleb/).\n",
    "- The [license](https://creativecommons.org/licenses/by/4.0/) and [complete version](https://www.robots.ox.ac.uk/~vgg/data/voxceleb/files/license.txt) of Voxceleb1.\n",
    "- We randomly select 600 speakers from Voxceleb1.\n",
    "- Then preprocess the raw waveforms into mel-spectrograms.\n",
    "\n",
    "- Args:\n",
    "  - data_dir: The path to the data directory.\n",
    "  - metadata_path: The path to the metadata.\n",
    "  - segment_len: The length of audio segment for training. \n",
    "- The architecture of data directory \\\\\n",
    "  - data directory \\\\\n",
    "  |---- metadata.json \\\\\n",
    "  |---- testdata.json \\\\\n",
    "  |---- mapping.json \\\\\n",
    "  |---- uttr-{random string}.pt \\\\\n",
    "\n",
    "- The information in metadata\n",
    "  - \"n_mels\": The dimention of mel-spectrogram.\n",
    "  - \"speakers\": A dictionary. \n",
    "    - Key: speaker ids.\n",
    "    - value: \"feature_path\" and \"mel_len\"\n",
    "\n",
    "\n",
    "For efficiency, we segment the mel-spectrograms into segments in the traing step."
   ]
  },
  {
   "cell_type": "code",
   "execution_count": 2,
   "metadata": {},
   "outputs": [],
   "source": [
    "segment_len = 128\n",
    "d_model = 128\n",
    "conform_dropout = 0.1\n",
    "head = 2"
   ]
  },
  {
   "cell_type": "code",
   "execution_count": 3,
   "metadata": {
    "id": "cd7hoGhYtbXQ"
   },
   "outputs": [],
   "source": [
    "import os\n",
    "import json\n",
    "import torch\n",
    "import random\n",
    "from pathlib import Path\n",
    "from torch.utils.data import Dataset\n",
    "from torch.nn.utils.rnn import pad_sequence\n",
    "\n",
    "\n",
    "class myDataset(Dataset):\n",
    "    def __init__(self, data_dir, segment_len=128):\n",
    "        self.data_dir = data_dir\n",
    "        self.segment_len = segment_len\n",
    "\n",
    "        # Load the mapping from speaker neme to their corresponding id.\n",
    "        mapping_path = Path(data_dir) / \"mapping.json\"\n",
    "        mapping = json.load(mapping_path.open())\n",
    "        self.speaker2id = mapping[\"speaker2id\"]\n",
    "\n",
    "        # Load metadata of training data.\n",
    "        metadata_path = Path(data_dir) / \"metadata.json\"\n",
    "        metadata = json.load(open(metadata_path))[\"speakers\"]\n",
    "\n",
    "        # Get the total number of speaker.\n",
    "        self.speaker_num = len(metadata.keys())\n",
    "        self.data = []\n",
    "        for speaker in metadata.keys():\n",
    "            for utterances in metadata[speaker]:\n",
    "                self.data.append(\n",
    "                    [utterances[\"feature_path\"], self.speaker2id[speaker]])\n",
    "\n",
    "    def __len__(self):\n",
    "        return len(self.data)\n",
    "\n",
    "    def __getitem__(self, index):\n",
    "        feat_path, speaker = self.data[index]\n",
    "        # Load preprocessed mel-spectrogram.\n",
    "        mel = torch.load(os.path.join(self.data_dir, feat_path))\n",
    "\n",
    "        # Segmemt mel-spectrogram into \"segment_len\" frames.\n",
    "        if self.segment_len == -1:\n",
    "            mel = torch.FloatTensor(mel)\n",
    "        elif len(mel) > self.segment_len:\n",
    "            # Randomly get the starting point of the segment.\n",
    "            start = random.randint(0, len(mel) - self.segment_len)\n",
    "            # Get a segment with \"segment_len\" frames.\n",
    "            mel = torch.FloatTensor(mel[start:start + self.segment_len])\n",
    "        else:\n",
    "            mel = torch.FloatTensor(mel)\n",
    "            \n",
    "        # Turn the speaker id into long for computing loss later.\n",
    "        speaker = torch.FloatTensor([speaker]).long()\n",
    "        return mel, speaker\n",
    "\n",
    "    def get_speaker_number(self):\n",
    "        return self.speaker_num"
   ]
  },
  {
   "cell_type": "markdown",
   "metadata": {
    "id": "mqJxjoi_NGnB"
   },
   "source": [
    "## Dataloader\n",
    "- Split dataset into training dataset(90%) and validation dataset(10%).\n",
    "- Create dataloader to iterate the data.\n"
   ]
  },
  {
   "cell_type": "code",
   "execution_count": 4,
   "metadata": {
    "id": "zuT1AuFENI8t"
   },
   "outputs": [],
   "source": [
    "import torch\n",
    "from torch.utils.data import DataLoader, random_split\n",
    "from torch.nn.utils.rnn import pad_sequence\n",
    "\n",
    "\n",
    "def collate_batch(batch):\n",
    "    # Process features within a batch.\n",
    "    \"\"\"Collate a batch of data.\"\"\"\n",
    "    mel, speaker = zip(*batch)\n",
    "    # Because we train the model batch by batch, we need to pad the features in the same batch to make their lengths the same.\n",
    "    mel = pad_sequence(\n",
    "        mel, batch_first=True,\n",
    "        padding_value=-20)  # pad log 10^(-20) which is very small value.\n",
    "    # mel: (batch size, length, 40)\n",
    "    return mel, torch.FloatTensor(speaker).long()\n",
    "\n",
    "\n",
    "def get_dataloader(data_dir, batch_size, n_workers):\n",
    "    \"\"\"Generate dataloader\"\"\"\n",
    "    dataset = myDataset(data_dir, segment_len)\n",
    "    speaker_num = dataset.get_speaker_number()\n",
    "    # Split dataset into training dataset and validation dataset\n",
    "    trainlen = int(0.9 * len(dataset))\n",
    "    lengths = [trainlen, len(dataset) - trainlen]\n",
    "    trainset, validset = random_split(dataset, lengths)\n",
    "\n",
    "    train_loader = DataLoader(\n",
    "        trainset,\n",
    "        batch_size=batch_size,\n",
    "        shuffle=True,\n",
    "        drop_last=True,\n",
    "        num_workers=n_workers,\n",
    "        pin_memory=True,\n",
    "        collate_fn=collate_batch,\n",
    "    )\n",
    "    valid_loader = DataLoader(\n",
    "        validset,\n",
    "        batch_size=batch_size,\n",
    "        num_workers=n_workers,\n",
    "        drop_last=True,\n",
    "        pin_memory=True,\n",
    "        collate_fn=collate_batch,\n",
    "    )\n",
    "\n",
    "    return train_loader, valid_loader, speaker_num"
   ]
  },
  {
   "cell_type": "markdown",
   "metadata": {
    "id": "X0x6eXiHpr4R"
   },
   "source": [
    "# Model\n",
    "- TransformerEncoderLayer:\n",
    "  - Base transformer encoder layer in [Attention Is All You Need](https://arxiv.org/abs/1706.03762)\n",
    "  - Parameters:\n",
    "    - d_model: the number of expected features of the input (required).\n",
    "\n",
    "    - nhead: the number of heads of the multiheadattention models (required).\n",
    "\n",
    "    - dim_feedforward: the dimension of the feedforward network model (default=2048).\n",
    "\n",
    "    - dropout: the dropout value (default=0.1).\n",
    "\n",
    "    - activation: the activation function of intermediate layer, relu or gelu (default=relu).\n",
    "\n",
    "- TransformerEncoder:\n",
    "  - TransformerEncoder is a stack of N transformer encoder layers\n",
    "  - Parameters:\n",
    "    - encoder_layer: an instance of the TransformerEncoderLayer() class (required).\n",
    "\n",
    "    - num_layers: the number of sub-encoder-layers in the encoder (required).\n",
    "\n",
    "    - norm: the layer normalization component (optional)."
   ]
  },
  {
   "cell_type": "code",
   "execution_count": 5,
   "metadata": {
    "id": "SHX4eVj4tjtd"
   },
   "outputs": [],
   "source": [
    "import torch\n",
    "import torch.nn as nn\n",
    "import torch.nn.functional as F\n",
    "from conformer import ConformerBlock\n",
    "\n",
    "class Classifier(nn.Module):\n",
    "    def __init__(self, d_model=d_model, n_spks=600, dropout=0.1):\n",
    "        super().__init__()\n",
    "        # Project the dimension of features from that of input into d_model.\n",
    "        self.prenet = nn.Linear(40, d_model)\n",
    "        # TODO:\n",
    "        #   Change Transformer to Conformer.\n",
    "        #   https://arxiv.org/abs/2005.08100\n",
    "#         self.encoder_layer = nn.TransformerEncoderLayer(d_model=d_model,\n",
    "#                                                         dim_feedforward=256,\n",
    "#                                                         nhead=2)\n",
    "        print('head', head)\n",
    "        self.encoder_layer = ConformerBlock(\n",
    "                        dim = d_model,\n",
    "                        dim_head = 64,\n",
    "                        heads = head,\n",
    "                        ff_mult = 4,\n",
    "                        conv_expansion_factor = 2,\n",
    "                        conv_kernel_size = 31,\n",
    "                        attn_dropout = conform_dropout,\n",
    "                        ff_dropout = conform_dropout,\n",
    "                        conv_dropout = conform_dropout\n",
    "                    )\n",
    "        # self.encoder = nn.TransformerEncoder(self.encoder_layer, num_layers=2)\n",
    "\n",
    "        # Project the the dimension of features from d_model into speaker nums.\n",
    "        self.pred_layer = nn.Sequential(\n",
    "#             nn.Linear(d_model, d_model),\n",
    "#             nn.ReLU(),\n",
    "            nn.Linear(d_model, n_spks),\n",
    "        )\n",
    "\n",
    "    def forward(self, mels):\n",
    "        \"\"\"\n",
    "    args:\n",
    "      mels: (batch size, length, 40)\n",
    "    return:\n",
    "      out: (batch size, n_spks)\n",
    "    \"\"\"\n",
    "        # out: (batch size, length, d_model)\n",
    "        out = self.prenet(mels)\n",
    "        # out: (length, batch size, d_model)\n",
    "        out = out.permute(1, 0, 2)\n",
    "        # The encoder layer expect features in the shape of (length, batch size, d_model).\n",
    "        out = self.encoder_layer(out)\n",
    "        # out: (batch size, length, d_model)\n",
    "        out = out.transpose(0, 1)\n",
    "        # mean pooling\n",
    "        stats = out.mean(dim=1)\n",
    "\n",
    "        # out: (batch, n_spks)\n",
    "        out = self.pred_layer(stats)\n",
    "        return out"
   ]
  },
  {
   "cell_type": "markdown",
   "metadata": {
    "id": "-__DolPGpvDZ"
   },
   "source": [
    "# Learning rate schedule\n",
    "- For transformer architecture, the design of learning rate schedule is different from that of CNN.\n",
    "- Previous works show that the warmup of learning rate is useful for training models with transformer architectures.\n",
    "- The warmup schedule\n",
    "  - Set learning rate to 0 in the beginning.\n",
    "  - The learning rate increases linearly from 0 to initial learning rate during warmup period."
   ]
  },
  {
   "cell_type": "code",
   "execution_count": 6,
   "metadata": {
    "id": "K-0816BntqT9"
   },
   "outputs": [],
   "source": [
    "import math\n",
    "\n",
    "import torch\n",
    "from torch.optim import Optimizer\n",
    "from torch.optim.lr_scheduler import LambdaLR\n",
    "\n",
    "\n",
    "def get_cosine_schedule_with_warmup(\n",
    "    optimizer: Optimizer,\n",
    "    num_warmup_steps: int,\n",
    "    num_training_steps: int,\n",
    "    num_cycles: float = 0.5,\n",
    "    last_epoch: int = -1,\n",
    "):\n",
    "    \"\"\"\n",
    "  Create a schedule with a learning rate that decreases following the values of the cosine function between the\n",
    "  initial lr set in the optimizer to 0, after a warmup period during which it increases linearly between 0 and the\n",
    "  initial lr set in the optimizer.\n",
    "\n",
    "  Args:\n",
    "    optimizer (:class:`~torch.optim.Optimizer`):\n",
    "      The optimizer for which to schedule the learning rate.\n",
    "    num_warmup_steps (:obj:`int`):\n",
    "      The number of steps for the warmup phase.\n",
    "    num_training_steps (:obj:`int`):\n",
    "      The total number of training steps.\n",
    "    num_cycles (:obj:`float`, `optional`, defaults to 0.5):\n",
    "      The number of waves in the cosine schedule (the defaults is to just decrease from the max value to 0\n",
    "      following a half-cosine).\n",
    "    last_epoch (:obj:`int`, `optional`, defaults to -1):\n",
    "      The index of the last epoch when resuming training.\n",
    "\n",
    "  Return:\n",
    "    :obj:`torch.optim.lr_scheduler.LambdaLR` with the appropriate schedule.\n",
    "  \"\"\"\n",
    "    def lr_lambda(current_step):\n",
    "        # Warmup\n",
    "        if current_step < num_warmup_steps:\n",
    "            return float(current_step) / float(max(1, num_warmup_steps))\n",
    "        # decadence\n",
    "        progress = float(current_step - num_warmup_steps) / float(\n",
    "            max(1, num_training_steps - num_warmup_steps))\n",
    "        return max(\n",
    "            0.0, 0.5 *\n",
    "            (1.0 + math.cos(math.pi * float(num_cycles) * 2.0 * progress)))\n",
    "\n",
    "    return LambdaLR(optimizer, lr_lambda, last_epoch)"
   ]
  },
  {
   "cell_type": "markdown",
   "metadata": {
    "id": "IP03FFo9K8DS"
   },
   "source": [
    "# Model Function\n",
    "- Model forward function."
   ]
  },
  {
   "cell_type": "code",
   "execution_count": 7,
   "metadata": {
    "id": "fohaLEFJK9-t"
   },
   "outputs": [],
   "source": [
    "import torch\n",
    "\n",
    "\n",
    "def model_fn(batch, model, criterion, device):\n",
    "    \"\"\"Forward a batch through the model.\"\"\"\n",
    "\n",
    "    mels, labels = batch\n",
    "    mels = mels.to(device)\n",
    "    labels = labels.to(device)\n",
    "\n",
    "    outs = model(mels)\n",
    "\n",
    "    loss = criterion(outs, labels)\n",
    "\n",
    "    # Get the speaker id with highest probability.\n",
    "    preds = outs.argmax(1)\n",
    "    # Compute accuracy.\n",
    "    accuracy = torch.mean((preds == labels).float())\n",
    "\n",
    "    return loss, accuracy"
   ]
  },
  {
   "cell_type": "markdown",
   "metadata": {
    "id": "F7cg-YrzLQcf"
   },
   "source": [
    "# Validate\n",
    "- Calculate accuracy of the validation set."
   ]
  },
  {
   "cell_type": "code",
   "execution_count": 8,
   "metadata": {
    "id": "mD-_p6nWLO2L"
   },
   "outputs": [],
   "source": [
    "from tqdm import tqdm\n",
    "import torch\n",
    "\n",
    "\n",
    "def valid(dataloader, model, criterion, device):\n",
    "    \"\"\"Validate on validation set.\"\"\"\n",
    "\n",
    "    model.eval()\n",
    "    running_loss = 0.0\n",
    "    running_accuracy = 0.0\n",
    "    pbar = tqdm(total=len(dataloader.dataset),\n",
    "                ncols=0,\n",
    "                desc=\"Valid\",\n",
    "                unit=\" uttr\")\n",
    "\n",
    "    for i, batch in enumerate(dataloader):\n",
    "        with torch.no_grad():\n",
    "            loss, accuracy = model_fn(batch, model, criterion, device)\n",
    "            running_loss += loss.item()\n",
    "            running_accuracy += accuracy.item()\n",
    "\n",
    "        pbar.update(dataloader.batch_size)\n",
    "        pbar.set_postfix(\n",
    "            loss=f\"{running_loss / (i+1):.2f}\",\n",
    "            accuracy=f\"{running_accuracy / (i+1):.2f}\",\n",
    "        )\n",
    "\n",
    "    pbar.close()\n",
    "    model.train()\n",
    "\n",
    "    return running_accuracy / len(dataloader)"
   ]
  },
  {
   "cell_type": "markdown",
   "metadata": {
    "id": "noHXyal5p1W5"
   },
   "source": [
    "# Main function"
   ]
  },
  {
   "cell_type": "code",
   "execution_count": 9,
   "metadata": {
    "id": "chRQE7oYtw62"
   },
   "outputs": [
    {
     "name": "stdout",
     "output_type": "stream",
     "text": [
      "[Info]: Use cuda now!\n",
      "[Info]: Finish loading data!\n",
      "head 2\n",
      "[Info]: Finish creating model!\n"
     ]
    },
    {
     "name": "stderr",
     "output_type": "stream",
     "text": [
      "Train: 100% 2000/2000 [01:06<00:00, 30.10 step/s, accuracy=0.31, loss=3.90, step=2000]\n",
      "Valid: 100% 6944/6944 [00:02<00:00, 3224.38 uttr/s, accuracy=0.23, loss=3.80]\n",
      "Train: 100% 2000/2000 [01:45<00:00, 18.92 step/s, accuracy=0.41, loss=2.69, step=4000]\n",
      "Valid: 100% 6944/6944 [00:02<00:00, 2534.90 uttr/s, accuracy=0.41, loss=2.78]\n",
      "Train: 100% 2000/2000 [01:46<00:00, 18.75 step/s, accuracy=0.59, loss=2.20, step=6000]\n",
      "Valid: 100% 6944/6944 [00:02<00:00, 2552.95 uttr/s, accuracy=0.47, loss=2.38]\n",
      "Train: 100% 2000/2000 [01:46<00:00, 18.87 step/s, accuracy=0.59, loss=1.88, step=8000]\n",
      "Valid: 100% 6944/6944 [00:02<00:00, 2602.52 uttr/s, accuracy=0.54, loss=2.01]\n",
      "Train: 100% 2000/2000 [01:46<00:00, 18.87 step/s, accuracy=0.69, loss=1.67, step=1e+4]\n",
      "Valid: 100% 6944/6944 [00:02<00:00, 2567.23 uttr/s, accuracy=0.60, loss=1.79]\n",
      "Train:   0% 3/2000 [00:00<01:59, 16.73 step/s, accuracy=0.62, loss=1.62, step=1e+4]"
     ]
    },
    {
     "name": "stdout",
     "output_type": "stream",
     "text": [
      "Step 10000, best model saved. (accuracy=0.5968)\n"
     ]
    },
    {
     "name": "stderr",
     "output_type": "stream",
     "text": [
      "Train: 100% 2000/2000 [01:45<00:00, 18.98 step/s, accuracy=0.75, loss=1.34, step=12000]\n",
      "Valid: 100% 6944/6944 [00:02<00:00, 2627.93 uttr/s, accuracy=0.64, loss=1.59]\n",
      "Train: 100% 2000/2000 [01:45<00:00, 18.90 step/s, accuracy=0.59, loss=1.42, step=14000]\n",
      "Valid: 100% 6944/6944 [00:02<00:00, 2597.52 uttr/s, accuracy=0.66, loss=1.46]\n",
      "Train: 100% 2000/2000 [01:46<00:00, 18.84 step/s, accuracy=0.72, loss=1.28, step=16000]\n",
      "Valid: 100% 6944/6944 [00:02<00:00, 2592.32 uttr/s, accuracy=0.69, loss=1.37]\n",
      "Train: 100% 2000/2000 [01:45<00:00, 18.93 step/s, accuracy=0.56, loss=1.94, step=18000]\n",
      "Valid: 100% 6944/6944 [00:02<00:00, 2566.02 uttr/s, accuracy=0.69, loss=1.34]\n",
      "Train: 100% 2000/2000 [01:45<00:00, 18.95 step/s, accuracy=0.59, loss=1.34, step=2e+4] \n",
      "Valid: 100% 6944/6944 [00:02<00:00, 2622.86 uttr/s, accuracy=0.70, loss=1.28]\n",
      "Train:   0% 3/2000 [00:00<01:49, 18.20 step/s, accuracy=0.81, loss=0.91, step=2e+4]"
     ]
    },
    {
     "name": "stdout",
     "output_type": "stream",
     "text": [
      "Step 20000, best model saved. (accuracy=0.7029)\n"
     ]
    },
    {
     "name": "stderr",
     "output_type": "stream",
     "text": [
      "Train: 100% 2000/2000 [01:46<00:00, 18.85 step/s, accuracy=0.62, loss=1.33, step=22000]\n",
      "Valid: 100% 6944/6944 [00:02<00:00, 2564.59 uttr/s, accuracy=0.71, loss=1.23]\n",
      "Train: 100% 2000/2000 [01:45<00:00, 18.95 step/s, accuracy=0.81, loss=0.70, step=24000]\n",
      "Valid: 100% 6944/6944 [00:02<00:00, 2597.67 uttr/s, accuracy=0.71, loss=1.23]\n",
      "Train: 100% 2000/2000 [01:46<00:00, 18.81 step/s, accuracy=0.69, loss=1.12, step=26000]\n",
      "Valid: 100% 6944/6944 [00:02<00:00, 2548.49 uttr/s, accuracy=0.73, loss=1.16]\n",
      "Train: 100% 2000/2000 [01:45<00:00, 18.99 step/s, accuracy=0.78, loss=0.74, step=28000]\n",
      "Valid: 100% 6944/6944 [00:02<00:00, 2614.15 uttr/s, accuracy=0.74, loss=1.10]\n",
      "Train: 100% 2000/2000 [01:45<00:00, 18.92 step/s, accuracy=0.81, loss=0.77, step=3e+4] \n",
      "Valid: 100% 6944/6944 [00:02<00:00, 2594.93 uttr/s, accuracy=0.74, loss=1.08]\n",
      "Train:   0% 4/2000 [00:00<01:45, 18.91 step/s, accuracy=0.59, loss=1.26, step=3e+4]"
     ]
    },
    {
     "name": "stdout",
     "output_type": "stream",
     "text": [
      "Step 30000, best model saved. (accuracy=0.7440)\n"
     ]
    },
    {
     "name": "stderr",
     "output_type": "stream",
     "text": [
      "Train: 100% 2000/2000 [01:45<00:00, 18.92 step/s, accuracy=0.91, loss=0.37, step=32000]\n",
      "Valid: 100% 6944/6944 [00:02<00:00, 2546.63 uttr/s, accuracy=0.76, loss=1.02]\n",
      "Train: 100% 2000/2000 [01:45<00:00, 18.91 step/s, accuracy=0.81, loss=0.69, step=34000]\n",
      "Valid: 100% 6944/6944 [00:02<00:00, 2523.90 uttr/s, accuracy=0.77, loss=0.99]\n",
      "Train: 100% 2000/2000 [01:45<00:00, 19.00 step/s, accuracy=0.91, loss=0.37, step=36000]\n",
      "Valid: 100% 6944/6944 [00:02<00:00, 2544.82 uttr/s, accuracy=0.77, loss=0.99]\n",
      "Train: 100% 2000/2000 [01:46<00:00, 18.76 step/s, accuracy=0.78, loss=0.88, step=38000]\n",
      "Valid: 100% 6944/6944 [00:02<00:00, 2605.48 uttr/s, accuracy=0.78, loss=0.94]\n",
      "Train: 100% 2000/2000 [01:45<00:00, 19.02 step/s, accuracy=0.81, loss=1.12, step=4e+4] \n",
      "Valid: 100% 6944/6944 [00:02<00:00, 2550.48 uttr/s, accuracy=0.78, loss=0.92]\n",
      "Train:   0% 4/2000 [00:00<01:38, 20.34 step/s, accuracy=0.81, loss=0.73, step=4e+4]"
     ]
    },
    {
     "name": "stdout",
     "output_type": "stream",
     "text": [
      "Step 40000, best model saved. (accuracy=0.7810)\n"
     ]
    },
    {
     "name": "stderr",
     "output_type": "stream",
     "text": [
      "Train: 100% 2000/2000 [01:44<00:00, 19.17 step/s, accuracy=0.91, loss=0.51, step=42000]\n",
      "Valid: 100% 6944/6944 [00:02<00:00, 2382.65 uttr/s, accuracy=0.78, loss=0.95]\n",
      "Train: 100% 2000/2000 [01:45<00:00, 18.94 step/s, accuracy=0.78, loss=0.72, step=44000]\n",
      "Valid: 100% 6944/6944 [00:02<00:00, 2557.05 uttr/s, accuracy=0.79, loss=0.90]\n",
      "Train: 100% 2000/2000 [01:46<00:00, 18.85 step/s, accuracy=0.88, loss=0.55, step=46000]\n",
      "Valid: 100% 6944/6944 [00:02<00:00, 2524.16 uttr/s, accuracy=0.78, loss=0.90]\n",
      "Train: 100% 2000/2000 [01:46<00:00, 18.81 step/s, accuracy=0.84, loss=0.59, step=48000]\n",
      "Valid: 100% 6944/6944 [00:02<00:00, 2537.42 uttr/s, accuracy=0.79, loss=0.88]\n",
      "Train: 100% 2000/2000 [01:47<00:00, 18.59 step/s, accuracy=0.94, loss=0.29, step=5e+4] \n",
      "Valid: 100% 6944/6944 [00:02<00:00, 2479.92 uttr/s, accuracy=0.80, loss=0.84]\n",
      "Train:   0% 3/2000 [00:00<01:50, 18.12 step/s, accuracy=0.94, loss=0.28, step=5e+4]"
     ]
    },
    {
     "name": "stdout",
     "output_type": "stream",
     "text": [
      "Step 50000, best model saved. (accuracy=0.8031)\n"
     ]
    },
    {
     "name": "stderr",
     "output_type": "stream",
     "text": [
      "Train: 100% 2000/2000 [01:47<00:00, 18.59 step/s, accuracy=0.88, loss=0.54, step=52000]\n",
      "Valid: 100% 6944/6944 [00:02<00:00, 2533.03 uttr/s, accuracy=0.81, loss=0.84]\n",
      "Train: 100% 2000/2000 [01:48<00:00, 18.50 step/s, accuracy=0.91, loss=0.38, step=54000]\n",
      "Valid: 100% 6944/6944 [00:02<00:00, 2566.35 uttr/s, accuracy=0.80, loss=0.86]\n",
      "Train: 100% 2000/2000 [01:47<00:00, 18.57 step/s, accuracy=0.84, loss=0.48, step=56000]\n",
      "Valid: 100% 6944/6944 [00:02<00:00, 2479.61 uttr/s, accuracy=0.80, loss=0.86]\n",
      "Train: 100% 2000/2000 [01:47<00:00, 18.52 step/s, accuracy=0.91, loss=0.35, step=58000]\n",
      "Valid: 100% 6944/6944 [00:02<00:00, 2574.06 uttr/s, accuracy=0.80, loss=0.84]\n",
      "Train: 100% 2000/2000 [01:46<00:00, 18.79 step/s, accuracy=0.81, loss=0.76, step=6e+4] \n",
      "Valid: 100% 6944/6944 [00:02<00:00, 2552.41 uttr/s, accuracy=0.82, loss=0.78]\n",
      "Train:   0% 3/2000 [00:00<01:59, 16.69 step/s, accuracy=0.84, loss=0.76, step=6e+4]"
     ]
    },
    {
     "name": "stdout",
     "output_type": "stream",
     "text": [
      "Step 60000, best model saved. (accuracy=0.8185)\n"
     ]
    },
    {
     "name": "stderr",
     "output_type": "stream",
     "text": [
      "Train: 100% 2000/2000 [01:47<00:00, 18.67 step/s, accuracy=0.94, loss=0.27, step=62000]\n",
      "Valid: 100% 6944/6944 [00:02<00:00, 2529.87 uttr/s, accuracy=0.81, loss=0.80]\n",
      "Train: 100% 2000/2000 [01:48<00:00, 18.36 step/s, accuracy=0.91, loss=0.27, step=64000]\n",
      "Valid: 100% 6944/6944 [00:02<00:00, 2544.46 uttr/s, accuracy=0.82, loss=0.78]\n",
      "Train: 100% 2000/2000 [01:47<00:00, 18.61 step/s, accuracy=0.94, loss=0.27, step=66000]\n",
      "Valid: 100% 6944/6944 [00:02<00:00, 2550.61 uttr/s, accuracy=0.83, loss=0.75]\n",
      "Train: 100% 2000/2000 [01:49<00:00, 18.35 step/s, accuracy=0.88, loss=0.46, step=68000]\n",
      "Valid: 100% 6944/6944 [00:02<00:00, 2571.72 uttr/s, accuracy=0.84, loss=0.72]\n",
      "Train: 100% 2000/2000 [01:48<00:00, 18.39 step/s, accuracy=0.97, loss=0.35, step=7e+4] \n",
      "Valid: 100% 6944/6944 [00:02<00:00, 2485.67 uttr/s, accuracy=0.83, loss=0.74]\n",
      "Train:   0% 3/2000 [00:00<01:53, 17.66 step/s, accuracy=0.94, loss=0.40, step=7e+4]"
     ]
    },
    {
     "name": "stdout",
     "output_type": "stream",
     "text": [
      "Step 70000, best model saved. (accuracy=0.8358)\n"
     ]
    },
    {
     "name": "stderr",
     "output_type": "stream",
     "text": [
      "Train: 100% 2000/2000 [01:48<00:00, 18.44 step/s, accuracy=0.84, loss=0.40, step=72000]\n",
      "Valid: 100% 6944/6944 [00:02<00:00, 2591.79 uttr/s, accuracy=0.83, loss=0.72]\n",
      "Train: 100% 2000/2000 [01:47<00:00, 18.64 step/s, accuracy=0.94, loss=0.34, step=74000]\n",
      "Valid: 100% 6944/6944 [00:02<00:00, 2504.36 uttr/s, accuracy=0.83, loss=0.72]\n",
      "Train: 100% 2000/2000 [01:48<00:00, 18.43 step/s, accuracy=0.91, loss=0.36, step=76000]\n",
      "Valid: 100% 6944/6944 [00:02<00:00, 2517.58 uttr/s, accuracy=0.84, loss=0.70]\n",
      "Train: 100% 2000/2000 [01:48<00:00, 18.42 step/s, accuracy=0.97, loss=0.14, step=78000]\n",
      "Valid: 100% 6944/6944 [00:02<00:00, 2528.25 uttr/s, accuracy=0.84, loss=0.70]\n",
      "Train: 100% 2000/2000 [01:48<00:00, 18.35 step/s, accuracy=0.88, loss=0.45, step=8e+4] \n",
      "Valid: 100% 6944/6944 [00:02<00:00, 2521.90 uttr/s, accuracy=0.84, loss=0.71]\n",
      "Train:   0% 3/2000 [00:00<01:47, 18.53 step/s, accuracy=0.97, loss=0.13, step=8e+4]"
     ]
    },
    {
     "name": "stdout",
     "output_type": "stream",
     "text": [
      "Step 80000, best model saved. (accuracy=0.8416)\n"
     ]
    },
    {
     "name": "stderr",
     "output_type": "stream",
     "text": [
      "Train: 100% 2000/2000 [01:50<00:00, 18.11 step/s, accuracy=0.91, loss=0.29, step=82000]\n",
      "Valid: 100% 6944/6944 [00:02<00:00, 2517.27 uttr/s, accuracy=0.85, loss=0.67]\n",
      "Train: 100% 2000/2000 [01:49<00:00, 18.31 step/s, accuracy=1.00, loss=0.07, step=84000]\n",
      "Valid: 100% 6944/6944 [00:02<00:00, 2571.13 uttr/s, accuracy=0.85, loss=0.65]\n",
      "Train: 100% 2000/2000 [01:47<00:00, 18.62 step/s, accuracy=0.91, loss=0.28, step=86000]\n",
      "Valid: 100% 6944/6944 [00:02<00:00, 2520.34 uttr/s, accuracy=0.84, loss=0.67]\n",
      "Train: 100% 2000/2000 [01:47<00:00, 18.67 step/s, accuracy=0.84, loss=0.84, step=88000]\n",
      "Valid: 100% 6944/6944 [00:02<00:00, 2523.50 uttr/s, accuracy=0.85, loss=0.67]\n",
      "Train: 100% 2000/2000 [01:47<00:00, 18.67 step/s, accuracy=0.94, loss=0.34, step=9e+4] \n",
      "Valid: 100% 6944/6944 [00:02<00:00, 2520.95 uttr/s, accuracy=0.85, loss=0.65]\n",
      "Train:   0% 3/2000 [00:00<01:55, 17.22 step/s, accuracy=0.91, loss=0.21, step=9e+4]"
     ]
    },
    {
     "name": "stdout",
     "output_type": "stream",
     "text": [
      "Step 90000, best model saved. (accuracy=0.8511)\n"
     ]
    },
    {
     "name": "stderr",
     "output_type": "stream",
     "text": [
      "Train: 100% 2000/2000 [01:47<00:00, 18.66 step/s, accuracy=0.91, loss=0.42, step=92000]\n",
      "Valid: 100% 6944/6944 [00:02<00:00, 2472.40 uttr/s, accuracy=0.86, loss=0.63]\n",
      "Train: 100% 2000/2000 [01:47<00:00, 18.65 step/s, accuracy=0.91, loss=0.50, step=94000]\n",
      "Valid: 100% 6944/6944 [00:02<00:00, 2508.26 uttr/s, accuracy=0.86, loss=0.63]\n",
      "Train: 100% 2000/2000 [01:47<00:00, 18.69 step/s, accuracy=1.00, loss=0.13, step=96000]\n",
      "Valid: 100% 6944/6944 [00:02<00:00, 2520.20 uttr/s, accuracy=0.86, loss=0.62]\n",
      "Train: 100% 2000/2000 [01:46<00:00, 18.73 step/s, accuracy=0.97, loss=0.15, step=98000]\n",
      "Valid: 100% 6944/6944 [00:02<00:00, 2561.78 uttr/s, accuracy=0.85, loss=0.62]\n",
      "Train: 100% 2000/2000 [01:47<00:00, 18.65 step/s, accuracy=0.97, loss=0.23, step=1e+5] \n",
      "Valid: 100% 6944/6944 [00:02<00:00, 2546.43 uttr/s, accuracy=0.86, loss=0.62]\n",
      "Train:   0% 3/2000 [00:00<01:49, 18.19 step/s, accuracy=0.94, loss=0.26, step=1e+5]"
     ]
    },
    {
     "name": "stdout",
     "output_type": "stream",
     "text": [
      "Step 100000, best model saved. (accuracy=0.8625)\n"
     ]
    },
    {
     "name": "stderr",
     "output_type": "stream",
     "text": [
      "Train: 100% 2000/2000 [01:46<00:00, 18.72 step/s, accuracy=0.94, loss=0.20, step=102000]\n",
      "Valid: 100% 6944/6944 [00:02<00:00, 2526.43 uttr/s, accuracy=0.86, loss=0.61]\n",
      "Train: 100% 2000/2000 [01:47<00:00, 18.64 step/s, accuracy=0.97, loss=0.24, step=104000]\n",
      "Valid: 100% 6944/6944 [00:02<00:00, 2565.01 uttr/s, accuracy=0.86, loss=0.62]\n",
      "Train: 100% 2000/2000 [01:47<00:00, 18.65 step/s, accuracy=0.97, loss=0.18, step=106000]\n",
      "Valid: 100% 6944/6944 [00:02<00:00, 2553.47 uttr/s, accuracy=0.86, loss=0.61]\n",
      "Train: 100% 2000/2000 [01:46<00:00, 18.81 step/s, accuracy=1.00, loss=0.13, step=108000]\n",
      "Valid: 100% 6944/6944 [00:02<00:00, 2502.24 uttr/s, accuracy=0.86, loss=0.61]\n",
      "Train: 100% 2000/2000 [01:47<00:00, 18.67 step/s, accuracy=0.94, loss=0.27, step=110000]\n",
      "Valid: 100% 6944/6944 [00:02<00:00, 2478.39 uttr/s, accuracy=0.87, loss=0.60]\n",
      "Train:   0% 3/2000 [00:00<01:58, 16.87 step/s, accuracy=0.88, loss=0.40, step=110003]"
     ]
    },
    {
     "name": "stdout",
     "output_type": "stream",
     "text": [
      "Step 110000, best model saved. (accuracy=0.8687)\n"
     ]
    },
    {
     "name": "stderr",
     "output_type": "stream",
     "text": [
      "Train: 100% 2000/2000 [01:48<00:00, 18.45 step/s, accuracy=0.97, loss=0.20, step=112000]\n",
      "Valid: 100% 6944/6944 [00:02<00:00, 2524.98 uttr/s, accuracy=0.87, loss=0.59]\n",
      "Train: 100% 2000/2000 [01:48<00:00, 18.44 step/s, accuracy=0.97, loss=0.08, step=114000]\n",
      "Valid: 100% 6944/6944 [00:02<00:00, 2525.34 uttr/s, accuracy=0.86, loss=0.63]\n",
      "Train: 100% 2000/2000 [01:49<00:00, 18.34 step/s, accuracy=0.91, loss=0.36, step=116000]\n",
      "Valid: 100% 6944/6944 [00:02<00:00, 2541.52 uttr/s, accuracy=0.87, loss=0.59]\n",
      "Train: 100% 2000/2000 [01:47<00:00, 18.68 step/s, accuracy=0.94, loss=0.18, step=118000]\n",
      "Valid: 100% 6944/6944 [00:02<00:00, 2519.42 uttr/s, accuracy=0.87, loss=0.59]\n",
      "Train: 100% 2000/2000 [01:49<00:00, 18.19 step/s, accuracy=0.94, loss=0.23, step=120000]\n",
      "Valid: 100% 6944/6944 [00:02<00:00, 2968.95 uttr/s, accuracy=0.87, loss=0.58]\n",
      "Train:   0% 0/2000 [00:00<?, ? step/s]\n"
     ]
    },
    {
     "name": "stdout",
     "output_type": "stream",
     "text": [
      "Step 120000, best model saved. (accuracy=0.8687)\n"
     ]
    }
   ],
   "source": [
    "from tqdm import tqdm\n",
    "\n",
    "import torch\n",
    "import torch.nn as nn\n",
    "from torch.optim import AdamW\n",
    "from torch.utils.data import DataLoader, random_split\n",
    "\n",
    "\n",
    "def parse_args():\n",
    "    \"\"\"arguments\"\"\"\n",
    "    config = {\n",
    "        \"data_dir\": \"./Dataset\",\n",
    "        \"save_path\": \"model.ckpt\",\n",
    "        \"batch_size\": 32,\n",
    "        \"n_workers\": 2,\n",
    "        \"valid_steps\": 2000,\n",
    "        \"warmup_steps\": 1000,\n",
    "        \"save_steps\": 10000,\n",
    "        \"total_steps\": 120000,\n",
    "    }\n",
    "\n",
    "    return config\n",
    "\n",
    "\n",
    "def main(\n",
    "    data_dir,\n",
    "    save_path,\n",
    "    batch_size,\n",
    "    n_workers,\n",
    "    valid_steps,\n",
    "    warmup_steps,\n",
    "    total_steps,\n",
    "    save_steps,\n",
    "):\n",
    "    \"\"\"Main function.\"\"\"\n",
    "    device = torch.device(\"cuda\" if torch.cuda.is_available() else \"cpu\")\n",
    "    print(f\"[Info]: Use {device} now!\")\n",
    "\n",
    "    train_loader, valid_loader, speaker_num = get_dataloader(\n",
    "        data_dir, batch_size, n_workers)\n",
    "    train_iterator = iter(train_loader)\n",
    "    print(f\"[Info]: Finish loading data!\", flush=True)\n",
    "\n",
    "    model = Classifier(n_spks=speaker_num).to(device)\n",
    "    criterion = nn.CrossEntropyLoss()\n",
    "    optimizer = AdamW(model.parameters(), lr=1e-3)\n",
    "    scheduler = get_cosine_schedule_with_warmup(optimizer, warmup_steps,\n",
    "                                                total_steps)\n",
    "    print(f\"[Info]: Finish creating model!\", flush=True)\n",
    "\n",
    "    best_accuracy = -1.0\n",
    "    best_state_dict = None\n",
    "\n",
    "    pbar = tqdm(total=valid_steps, ncols=0, desc=\"Train\", unit=\" step\")\n",
    "\n",
    "    for step in range(total_steps):\n",
    "        # Get data\n",
    "        try:\n",
    "            batch = next(train_iterator)\n",
    "        except StopIteration:\n",
    "            train_iterator = iter(train_loader)\n",
    "            batch = next(train_iterator)\n",
    "\n",
    "        loss, accuracy = model_fn(batch, model, criterion, device)\n",
    "        batch_loss = loss.item()\n",
    "        batch_accuracy = accuracy.item()\n",
    "\n",
    "        # Updata model\n",
    "        loss.backward()\n",
    "        optimizer.step()\n",
    "        scheduler.step()\n",
    "        optimizer.zero_grad()\n",
    "\n",
    "        # Log\n",
    "        pbar.update()\n",
    "        pbar.set_postfix(\n",
    "            loss=f\"{batch_loss:.2f}\",\n",
    "            accuracy=f\"{batch_accuracy:.2f}\",\n",
    "            step=step + 1,\n",
    "        )\n",
    "\n",
    "        # Do validation\n",
    "        if (step + 1) % valid_steps == 0:\n",
    "            pbar.close()\n",
    "\n",
    "            valid_accuracy = valid(valid_loader, model, criterion, device)\n",
    "\n",
    "            # keep the best model\n",
    "            if valid_accuracy > best_accuracy:\n",
    "                best_accuracy = valid_accuracy\n",
    "                best_state_dict = model.state_dict()\n",
    "\n",
    "            pbar = tqdm(total=valid_steps, ncols=0, desc=\"Train\", unit=\" step\")\n",
    "\n",
    "        # Save the best model so far.\n",
    "        if (step + 1) % save_steps == 0 and best_state_dict is not None:\n",
    "            torch.save(best_state_dict, save_path)\n",
    "            pbar.write(\n",
    "                f\"Step {step + 1}, best model saved. (accuracy={best_accuracy:.4f})\"\n",
    "            )\n",
    "\n",
    "    pbar.close()\n",
    "\n",
    "\n",
    "if __name__ == \"__main__\":\n",
    "    main(**parse_args())"
   ]
  },
  {
   "cell_type": "markdown",
   "metadata": {
    "id": "0R2rx3AyHpQ-"
   },
   "source": [
    "# Inference"
   ]
  },
  {
   "cell_type": "markdown",
   "metadata": {
    "id": "pSuI3WY9Fz78"
   },
   "source": [
    "## Dataset of inference"
   ]
  },
  {
   "cell_type": "code",
   "execution_count": 10,
   "metadata": {
    "id": "4evns0055Dsx"
   },
   "outputs": [],
   "source": [
    "import os\n",
    "import json\n",
    "import torch\n",
    "from pathlib import Path\n",
    "from torch.utils.data import Dataset\n",
    "\n",
    "\n",
    "class InferenceDataset(Dataset):\n",
    "    def __init__(self, data_dir):\n",
    "        testdata_path = Path(data_dir) / \"testdata.json\"\n",
    "        metadata = json.load(testdata_path.open())\n",
    "        self.data_dir = data_dir\n",
    "        self.data = metadata[\"utterances\"]\n",
    "\n",
    "    def __len__(self):\n",
    "        return len(self.data)\n",
    "\n",
    "    def __getitem__(self, index):\n",
    "        utterance = self.data[index]\n",
    "        feat_path = utterance[\"feature_path\"]\n",
    "        mel = torch.load(os.path.join(self.data_dir, feat_path))\n",
    "\n",
    "        return feat_path, mel\n",
    "\n",
    "\n",
    "def inference_collate_batch(batch):\n",
    "    \"\"\"Collate a batch of data.\"\"\"\n",
    "    feat_paths, mels = zip(*batch)\n",
    "\n",
    "    return feat_paths, torch.stack(mels)"
   ]
  },
  {
   "cell_type": "markdown",
   "metadata": {
    "id": "oAinHBG1GIWv"
   },
   "source": [
    "## Main funcrion of Inference"
   ]
  },
  {
   "cell_type": "code",
   "execution_count": 11,
   "metadata": {},
   "outputs": [
    {
     "name": "stdout",
     "output_type": "stream",
     "text": [
      "[Info]: Use cuda now!\n",
      "[Info]: Finish loading data!\n",
      "head 2\n",
      "[Info]: Finish creating model!\n"
     ]
    },
    {
     "data": {
      "application/vnd.jupyter.widget-view+json": {
       "model_id": "7c6a80392bad4d099533380af144202e",
       "version_major": 2,
       "version_minor": 0
      },
      "text/plain": [
       "  0%|          | 0/6000 [00:00<?, ?it/s]"
      ]
     },
     "metadata": {},
     "output_type": "display_data"
    }
   ],
   "source": [
    "import json\n",
    "import csv\n",
    "from pathlib import Path\n",
    "from tqdm.notebook import tqdm\n",
    "\n",
    "import torch\n",
    "from torch.utils.data import DataLoader\n",
    "\n",
    "\n",
    "def parse_args():\n",
    "    \"\"\"arguments\"\"\"\n",
    "    config = {\n",
    "        \"data_dir\": \"./Dataset\",\n",
    "        \"model_path\": \"./model.ckpt\",\n",
    "        \"output_path\": \"./output.csv\",\n",
    "    }\n",
    "\n",
    "    return config\n",
    "\n",
    "\n",
    "def main(\n",
    "    data_dir,\n",
    "    model_path,\n",
    "    output_path,\n",
    "):\n",
    "    \"\"\"Main function.\"\"\"\n",
    "    device = torch.device(\"cuda\" if torch.cuda.is_available() else \"cpu\")\n",
    "    print(f\"[Info]: Use {device} now!\")\n",
    "\n",
    "    mapping_path = Path(data_dir) / \"mapping.json\"\n",
    "    mapping = json.load(mapping_path.open())\n",
    "\n",
    "    dataset = InferenceDataset(data_dir)\n",
    "    dataloader = DataLoader(\n",
    "        dataset,\n",
    "        batch_size=1,\n",
    "        shuffle=False,\n",
    "        drop_last=False,\n",
    "        num_workers=8,\n",
    "        collate_fn=inference_collate_batch,\n",
    "    )\n",
    "    print(f\"[Info]: Finish loading data!\", flush=True)\n",
    "\n",
    "    speaker_num = len(mapping[\"id2speaker\"])\n",
    "    model = Classifier(n_spks=speaker_num).to(device)\n",
    "    model.load_state_dict(torch.load(model_path))\n",
    "    model.eval()\n",
    "    print(f\"[Info]: Finish creating model!\", flush=True)\n",
    "\n",
    "    results = [[\"Id\", \"Category\"]]\n",
    "    for feat_paths, mels in tqdm(dataloader):\n",
    "        with torch.no_grad():\n",
    "            mels = mels.to(device)\n",
    "            outs = model(mels)\n",
    "            preds = outs.argmax(1).cpu().numpy()\n",
    "            for feat_path, pred in zip(feat_paths, preds):\n",
    "                results.append([feat_path, mapping[\"id2speaker\"][str(pred)]])\n",
    "\n",
    "    with open(output_path, 'w', newline='') as csvfile:\n",
    "        writer = csv.writer(csvfile)\n",
    "        writer.writerows(results)\n",
    "\n",
    "\n",
    "if __name__ == \"__main__\":\n",
    "    main(**parse_args())"
   ]
  },
  {
   "cell_type": "code",
   "execution_count": null,
   "metadata": {},
   "outputs": [],
   "source": []
  }
 ],
 "metadata": {
  "accelerator": "GPU",
  "colab": {
   "collapsed_sections": [],
   "name": "HW04.ipynb",
   "provenance": [],
   "toc_visible": true
  },
  "kernelspec": {
   "display_name": "Python 3",
   "language": "python",
   "name": "python3"
  },
  "language_info": {
   "codemirror_mode": {
    "name": "ipython",
    "version": 3
   },
   "file_extension": ".py",
   "mimetype": "text/x-python",
   "name": "python",
   "nbconvert_exporter": "python",
   "pygments_lexer": "ipython3",
   "version": "3.7.1"
  },
  "toc": {
   "base_numbering": 1,
   "nav_menu": {},
   "number_sections": true,
   "sideBar": true,
   "skip_h1_title": false,
   "title_cell": "Table of Contents",
   "title_sidebar": "Contents",
   "toc_cell": false,
   "toc_position": {},
   "toc_section_display": true,
   "toc_window_display": false
  }
 },
 "nbformat": 4,
 "nbformat_minor": 1
}

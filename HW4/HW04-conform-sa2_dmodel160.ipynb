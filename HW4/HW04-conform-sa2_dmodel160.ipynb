{
 "cells": [
  {
   "cell_type": "code",
   "execution_count": 1,
   "metadata": {},
   "outputs": [
    {
     "name": "stdout",
     "output_type": "stream",
     "text": [
      "cuda: 1\n"
     ]
    }
   ],
   "source": [
    "import torch\n",
    "torch.cuda.set_device(1)\n",
    "print('cuda:', torch.cuda.current_device())\n",
    "device = \"cuda\" if torch.cuda.is_available() else \"cpu\""
   ]
  },
  {
   "cell_type": "markdown",
   "metadata": {
    "id": "v1gYr_aoNDue"
   },
   "source": [
    "# Data"
   ]
  },
  {
   "cell_type": "markdown",
   "metadata": {
    "id": "Mz_NpuAipk3h"
   },
   "source": [
    "## Dataset\n",
    "- Original dataset is [Voxceleb1](https://www.robots.ox.ac.uk/~vgg/data/voxceleb/).\n",
    "- The [license](https://creativecommons.org/licenses/by/4.0/) and [complete version](https://www.robots.ox.ac.uk/~vgg/data/voxceleb/files/license.txt) of Voxceleb1.\n",
    "- We randomly select 600 speakers from Voxceleb1.\n",
    "- Then preprocess the raw waveforms into mel-spectrograms.\n",
    "\n",
    "- Args:\n",
    "  - data_dir: The path to the data directory.\n",
    "  - metadata_path: The path to the metadata.\n",
    "  - segment_len: The length of audio segment for training. \n",
    "- The architecture of data directory \\\\\n",
    "  - data directory \\\\\n",
    "  |---- metadata.json \\\\\n",
    "  |---- testdata.json \\\\\n",
    "  |---- mapping.json \\\\\n",
    "  |---- uttr-{random string}.pt \\\\\n",
    "\n",
    "- The information in metadata\n",
    "  - \"n_mels\": The dimention of mel-spectrogram.\n",
    "  - \"speakers\": A dictionary. \n",
    "    - Key: speaker ids.\n",
    "    - value: \"feature_path\" and \"mel_len\"\n",
    "\n",
    "\n",
    "For efficiency, we segment the mel-spectrograms into segments in the traing step."
   ]
  },
  {
   "cell_type": "code",
   "execution_count": 2,
   "metadata": {},
   "outputs": [],
   "source": [
    "segment_len = 128\n",
    "d_model = 160\n",
    "conform_dropout = 0.1\n",
    "sa_dim = 2\n",
    "model_name = 'HW04-conform-sa2_dmodel160'"
   ]
  },
  {
   "cell_type": "code",
   "execution_count": 3,
   "metadata": {
    "id": "cd7hoGhYtbXQ"
   },
   "outputs": [],
   "source": [
    "import os\n",
    "import json\n",
    "import torch\n",
    "import random\n",
    "from pathlib import Path\n",
    "from torch.utils.data import Dataset\n",
    "from torch.nn.utils.rnn import pad_sequence\n",
    "\n",
    "\n",
    "class myDataset(Dataset):\n",
    "    def __init__(self, data_dir, segment_len=128):\n",
    "        self.data_dir = data_dir\n",
    "        self.segment_len = segment_len\n",
    "\n",
    "        # Load the mapping from speaker neme to their corresponding id.\n",
    "        mapping_path = Path(data_dir) / \"mapping.json\"\n",
    "        mapping = json.load(mapping_path.open())\n",
    "        self.speaker2id = mapping[\"speaker2id\"]\n",
    "\n",
    "        # Load metadata of training data.\n",
    "        metadata_path = Path(data_dir) / \"metadata.json\"\n",
    "        metadata = json.load(open(metadata_path))[\"speakers\"]\n",
    "\n",
    "        # Get the total number of speaker.\n",
    "        self.speaker_num = len(metadata.keys())\n",
    "        self.data = []\n",
    "        for speaker in metadata.keys():\n",
    "            for utterances in metadata[speaker]:\n",
    "                self.data.append(\n",
    "                    [utterances[\"feature_path\"], self.speaker2id[speaker]])\n",
    "\n",
    "    def __len__(self):\n",
    "        return len(self.data)\n",
    "\n",
    "    def __getitem__(self, index):\n",
    "        feat_path, speaker = self.data[index]\n",
    "        # Load preprocessed mel-spectrogram.\n",
    "        mel = torch.load(os.path.join(self.data_dir, feat_path))\n",
    "\n",
    "        # Segmemt mel-spectrogram into \"segment_len\" frames.\n",
    "        if self.segment_len == -1:\n",
    "            mel = torch.FloatTensor(mel)\n",
    "        elif len(mel) > self.segment_len:\n",
    "            # Randomly get the starting point of the segment.\n",
    "            start = random.randint(0, len(mel) - self.segment_len)\n",
    "            # Get a segment with \"segment_len\" frames.\n",
    "            mel = torch.FloatTensor(mel[start:start + self.segment_len])\n",
    "        else:\n",
    "            mel = torch.FloatTensor(mel)\n",
    "            \n",
    "        # Turn the speaker id into long for computing loss later.\n",
    "        speaker = torch.FloatTensor([speaker]).long()\n",
    "        return mel, speaker\n",
    "\n",
    "    def get_speaker_number(self):\n",
    "        return self.speaker_num"
   ]
  },
  {
   "cell_type": "markdown",
   "metadata": {
    "id": "mqJxjoi_NGnB"
   },
   "source": [
    "## Dataloader\n",
    "- Split dataset into training dataset(90%) and validation dataset(10%).\n",
    "- Create dataloader to iterate the data.\n"
   ]
  },
  {
   "cell_type": "code",
   "execution_count": 4,
   "metadata": {
    "id": "zuT1AuFENI8t"
   },
   "outputs": [],
   "source": [
    "import torch\n",
    "from torch.utils.data import DataLoader, random_split\n",
    "from torch.nn.utils.rnn import pad_sequence\n",
    "\n",
    "\n",
    "def collate_batch(batch):\n",
    "    # Process features within a batch.\n",
    "    \"\"\"Collate a batch of data.\"\"\"\n",
    "    mel, speaker = zip(*batch)\n",
    "    # Because we train the model batch by batch, we need to pad the features in the same batch to make their lengths the same.\n",
    "    mel = pad_sequence(\n",
    "        mel, batch_first=True,\n",
    "        padding_value=-20)  # pad log 10^(-20) which is very small value.\n",
    "    # mel: (batch size, length, 40)\n",
    "    return mel, torch.FloatTensor(speaker).long()\n",
    "\n",
    "\n",
    "def get_dataloader(data_dir, batch_size, n_workers):\n",
    "    \"\"\"Generate dataloader\"\"\"\n",
    "    dataset = myDataset(data_dir, segment_len)\n",
    "    speaker_num = dataset.get_speaker_number()\n",
    "    # Split dataset into training dataset and validation dataset\n",
    "    trainlen = int(0.9 * len(dataset))\n",
    "    lengths = [trainlen, len(dataset) - trainlen]\n",
    "    trainset, validset = random_split(dataset, lengths)\n",
    "\n",
    "    train_loader = DataLoader(\n",
    "        trainset,\n",
    "        batch_size=batch_size,\n",
    "        shuffle=True,\n",
    "        drop_last=True,\n",
    "        num_workers=n_workers,\n",
    "        pin_memory=True,\n",
    "        collate_fn=collate_batch,\n",
    "    )\n",
    "    valid_loader = DataLoader(\n",
    "        validset,\n",
    "        batch_size=batch_size,\n",
    "        num_workers=n_workers,\n",
    "        drop_last=True,\n",
    "        pin_memory=True,\n",
    "        collate_fn=collate_batch,\n",
    "    )\n",
    "\n",
    "    return train_loader, valid_loader, speaker_num"
   ]
  },
  {
   "cell_type": "markdown",
   "metadata": {
    "id": "X0x6eXiHpr4R"
   },
   "source": [
    "# Model\n",
    "- TransformerEncoderLayer:\n",
    "  - Base transformer encoder layer in [Attention Is All You Need](https://arxiv.org/abs/1706.03762)\n",
    "  - Parameters:\n",
    "    - d_model: the number of expected features of the input (required).\n",
    "\n",
    "    - nhead: the number of heads of the multiheadattention models (required).\n",
    "\n",
    "    - dim_feedforward: the dimension of the feedforward network model (default=2048).\n",
    "\n",
    "    - dropout: the dropout value (default=0.1).\n",
    "\n",
    "    - activation: the activation function of intermediate layer, relu or gelu (default=relu).\n",
    "\n",
    "- TransformerEncoder:\n",
    "  - TransformerEncoder is a stack of N transformer encoder layers\n",
    "  - Parameters:\n",
    "    - encoder_layer: an instance of the TransformerEncoderLayer() class (required).\n",
    "\n",
    "    - num_layers: the number of sub-encoder-layers in the encoder (required).\n",
    "\n",
    "    - norm: the layer normalization component (optional)."
   ]
  },
  {
   "cell_type": "code",
   "execution_count": 5,
   "metadata": {
    "id": "SHX4eVj4tjtd"
   },
   "outputs": [],
   "source": [
    "import torch\n",
    "import torch.nn as nn\n",
    "import torch.nn.functional as F\n",
    "from conformer import ConformerBlock\n",
    "\n",
    "class Classifier(nn.Module):\n",
    "    def __init__(self, d_model=d_model, n_spks=600, dropout=0.1, sa_dim=sa_dim):\n",
    "        super().__init__()\n",
    "        # Project the dimension of features from that of input into d_model.\n",
    "        self.prenet = nn.Linear(40, d_model)\n",
    "        # TODO:\n",
    "        #   Change Transformer to Conformer.\n",
    "        #   https://arxiv.org/abs/2005.08100\n",
    "#         self.encoder_layer = nn.TransformerEncoderLayer(d_model=d_model,\n",
    "#                                                         dim_feedforward=256,\n",
    "#                                                         nhead=2)\n",
    "        self.encoder_layer = ConformerBlock(\n",
    "                        dim = d_model,\n",
    "                        dim_head = 64,\n",
    "                        heads = 8,\n",
    "                        ff_mult = 4,\n",
    "                        conv_expansion_factor = 2,\n",
    "                        conv_kernel_size = 31,\n",
    "                        attn_dropout = conform_dropout,\n",
    "                        ff_dropout = conform_dropout,\n",
    "                        conv_dropout = conform_dropout\n",
    "                    )\n",
    "        # self.encoder = nn.TransformerEncoder(self.encoder_layer, num_layers=2)\n",
    "        self.sa_layer1 = nn.Sequential(\n",
    "            nn.Linear(d_model, d_model),\n",
    "            nn.ReLU(),\n",
    "        )   \n",
    "\n",
    "        self.sa_layer2 = nn.Sequential(\n",
    "            nn.Linear(d_model, sa_dim),\n",
    "            nn.Softmax(dim=1),\n",
    "        )  \n",
    "        # Project the the dimension of features from d_model into speaker nums.\n",
    "        self.pred_layer = nn.Sequential(\n",
    "#             nn.Linear(d_model, d_model),\n",
    "#             nn.ReLU(),\n",
    "            nn.Linear(d_model*sa_dim, n_spks),\n",
    "        )\n",
    "\n",
    "    def forward(self, mels):\n",
    "        \"\"\"\n",
    "    args:\n",
    "      mels: (batch size, length, 40)\n",
    "    return:\n",
    "      out: (batch size, n_spks)\n",
    "    \"\"\"\n",
    "        # out: (batch size, length, d_model)\n",
    "        out = self.prenet(mels)\n",
    "        # out: (length, batch size, d_model)\n",
    "        out = out.permute(1, 0, 2)\n",
    "        # The encoder layer expect features in the shape of (length, batch size, d_model).\n",
    "        out = self.encoder_layer(out)\n",
    "        # out: (batch size, length, d_model)\n",
    "        out = out.transpose(0, 1)\n",
    "        \n",
    "        a1 = self.sa_layer1(out)\n",
    "        A = self.sa_layer2(a1)        \n",
    "        A = A.permute(0, 2, 1)\n",
    "#         print('A',A.shape)\n",
    "#         print('out',out.shape)\n",
    "        \n",
    "        out = torch.matmul(A, out)\n",
    "        out = out.view(32, -1)      \n",
    "#         out = out.mean(dim=1)        \n",
    "        # out: (batch, n_spks)\n",
    "        out = self.pred_layer(out)\n",
    "        return out"
   ]
  },
  {
   "cell_type": "markdown",
   "metadata": {
    "id": "-__DolPGpvDZ"
   },
   "source": [
    "# Learning rate schedule\n",
    "- For transformer architecture, the design of learning rate schedule is different from that of CNN.\n",
    "- Previous works show that the warmup of learning rate is useful for training models with transformer architectures.\n",
    "- The warmup schedule\n",
    "  - Set learning rate to 0 in the beginning.\n",
    "  - The learning rate increases linearly from 0 to initial learning rate during warmup period."
   ]
  },
  {
   "cell_type": "code",
   "execution_count": 6,
   "metadata": {
    "id": "K-0816BntqT9"
   },
   "outputs": [],
   "source": [
    "import math\n",
    "\n",
    "import torch\n",
    "from torch.optim import Optimizer\n",
    "from torch.optim.lr_scheduler import LambdaLR\n",
    "\n",
    "\n",
    "def get_cosine_schedule_with_warmup(\n",
    "    optimizer: Optimizer,\n",
    "    num_warmup_steps: int,\n",
    "    num_training_steps: int,\n",
    "    num_cycles: float = 0.5,\n",
    "    last_epoch: int = -1,\n",
    "):\n",
    "    \"\"\"\n",
    "  Create a schedule with a learning rate that decreases following the values of the cosine function between the\n",
    "  initial lr set in the optimizer to 0, after a warmup period during which it increases linearly between 0 and the\n",
    "  initial lr set in the optimizer.\n",
    "\n",
    "  Args:\n",
    "    optimizer (:class:`~torch.optim.Optimizer`):\n",
    "      The optimizer for which to schedule the learning rate.\n",
    "    num_warmup_steps (:obj:`int`):\n",
    "      The number of steps for the warmup phase.\n",
    "    num_training_steps (:obj:`int`):\n",
    "      The total number of training steps.\n",
    "    num_cycles (:obj:`float`, `optional`, defaults to 0.5):\n",
    "      The number of waves in the cosine schedule (the defaults is to just decrease from the max value to 0\n",
    "      following a half-cosine).\n",
    "    last_epoch (:obj:`int`, `optional`, defaults to -1):\n",
    "      The index of the last epoch when resuming training.\n",
    "\n",
    "  Return:\n",
    "    :obj:`torch.optim.lr_scheduler.LambdaLR` with the appropriate schedule.\n",
    "  \"\"\"\n",
    "    def lr_lambda(current_step):\n",
    "        # Warmup\n",
    "        if current_step < num_warmup_steps:\n",
    "            return float(current_step) / float(max(1, num_warmup_steps))\n",
    "        # decadence\n",
    "        progress = float(current_step - num_warmup_steps) / float(\n",
    "            max(1, num_training_steps - num_warmup_steps))\n",
    "        return max(\n",
    "            0.0, 0.5 *\n",
    "            (1.0 + math.cos(math.pi * float(num_cycles) * 2.0 * progress)))\n",
    "\n",
    "    return LambdaLR(optimizer, lr_lambda, last_epoch)"
   ]
  },
  {
   "cell_type": "markdown",
   "metadata": {
    "id": "IP03FFo9K8DS"
   },
   "source": [
    "# Model Function\n",
    "- Model forward function."
   ]
  },
  {
   "cell_type": "code",
   "execution_count": 7,
   "metadata": {
    "id": "fohaLEFJK9-t"
   },
   "outputs": [],
   "source": [
    "import torch\n",
    "\n",
    "\n",
    "def model_fn(batch, model, criterion, device):\n",
    "    \"\"\"Forward a batch through the model.\"\"\"\n",
    "\n",
    "    mels, labels = batch\n",
    "    mels = mels.to(device)\n",
    "    labels = labels.to(device)\n",
    "\n",
    "    outs = model(mels)\n",
    "\n",
    "    loss = criterion(outs, labels)\n",
    "\n",
    "    # Get the speaker id with highest probability.\n",
    "    preds = outs.argmax(1)\n",
    "    # Compute accuracy.\n",
    "    accuracy = torch.mean((preds == labels).float())\n",
    "\n",
    "    return loss, accuracy"
   ]
  },
  {
   "cell_type": "markdown",
   "metadata": {
    "id": "F7cg-YrzLQcf"
   },
   "source": [
    "# Validate\n",
    "- Calculate accuracy of the validation set."
   ]
  },
  {
   "cell_type": "code",
   "execution_count": 8,
   "metadata": {
    "id": "mD-_p6nWLO2L"
   },
   "outputs": [],
   "source": [
    "from tqdm import tqdm\n",
    "import torch\n",
    "\n",
    "\n",
    "def valid(dataloader, model, criterion, device):\n",
    "    \"\"\"Validate on validation set.\"\"\"\n",
    "\n",
    "    model.eval()\n",
    "    running_loss = 0.0\n",
    "    running_accuracy = 0.0\n",
    "    pbar = tqdm(total=len(dataloader.dataset),\n",
    "                ncols=0,\n",
    "                desc=\"Valid\",\n",
    "                unit=\" uttr\")\n",
    "\n",
    "    for i, batch in enumerate(dataloader):\n",
    "        with torch.no_grad():\n",
    "            loss, accuracy = model_fn(batch, model, criterion, device)\n",
    "            running_loss += loss.item()\n",
    "            running_accuracy += accuracy.item()\n",
    "\n",
    "        pbar.update(dataloader.batch_size)\n",
    "        pbar.set_postfix(\n",
    "            loss=f\"{running_loss / (i+1):.2f}\",\n",
    "            accuracy=f\"{running_accuracy / (i+1):.2f}\",\n",
    "        )\n",
    "\n",
    "    pbar.close()\n",
    "    model.train()\n",
    "\n",
    "    return running_accuracy / len(dataloader)"
   ]
  },
  {
   "cell_type": "markdown",
   "metadata": {
    "id": "noHXyal5p1W5"
   },
   "source": [
    "# Main function"
   ]
  },
  {
   "cell_type": "code",
   "execution_count": 9,
   "metadata": {
    "id": "chRQE7oYtw62"
   },
   "outputs": [
    {
     "name": "stdout",
     "output_type": "stream",
     "text": [
      "[Info]: Use cuda now!\n",
      "[Info]: Finish loading data!\n",
      "[Info]: Finish creating model!\n"
     ]
    },
    {
     "name": "stderr",
     "output_type": "stream",
     "text": [
      "Train: 100% 2000/2000 [01:54<00:00, 17.52 step/s, accuracy=0.25, loss=3.24, step=2000]\n",
      "Valid: 100% 6944/6944 [00:03<00:00, 2166.19 uttr/s, accuracy=0.36, loss=2.98]\n",
      "Train: 100% 2000/2000 [01:55<00:00, 17.39 step/s, accuracy=0.50, loss=2.19, step=4000]\n",
      "Valid: 100% 6944/6944 [00:03<00:00, 2140.92 uttr/s, accuracy=0.48, loss=2.36]\n",
      "Train: 100% 2000/2000 [01:54<00:00, 17.54 step/s, accuracy=0.69, loss=1.57, step=6000]\n",
      "Valid: 100% 6944/6944 [00:03<00:00, 2245.30 uttr/s, accuracy=0.57, loss=1.86]\n",
      "Train: 100% 2000/2000 [01:51<00:00, 17.96 step/s, accuracy=0.81, loss=0.96, step=8000]\n",
      "Valid: 100% 6944/6944 [00:03<00:00, 2142.62 uttr/s, accuracy=0.61, loss=1.70]\n",
      "Train: 100% 2000/2000 [01:51<00:00, 17.86 step/s, accuracy=0.59, loss=1.21, step=1e+4]\n",
      "Valid: 100% 6944/6944 [00:03<00:00, 2174.60 uttr/s, accuracy=0.65, loss=1.52]\n",
      "Train:   0% 3/2000 [00:00<02:50, 11.70 step/s, accuracy=0.69, loss=1.41, step=1e+4]"
     ]
    },
    {
     "name": "stdout",
     "output_type": "stream",
     "text": [
      "Step 10000, best model saved. (accuracy=0.6465)\n"
     ]
    },
    {
     "name": "stderr",
     "output_type": "stream",
     "text": [
      "Train: 100% 2000/2000 [01:54<00:00, 17.48 step/s, accuracy=0.84, loss=0.45, step=12000]\n",
      "Valid: 100% 6944/6944 [00:03<00:00, 2222.07 uttr/s, accuracy=0.68, loss=1.38]\n",
      "Train: 100% 2000/2000 [01:49<00:00, 18.20 step/s, accuracy=0.72, loss=1.30, step=14000]\n",
      "Valid: 100% 6944/6944 [00:03<00:00, 2289.05 uttr/s, accuracy=0.69, loss=1.32]\n",
      "Train: 100% 2000/2000 [01:51<00:00, 17.94 step/s, accuracy=0.59, loss=1.63, step=16000]\n",
      "Valid: 100% 6944/6944 [00:03<00:00, 2235.19 uttr/s, accuracy=0.71, loss=1.23]\n",
      "Train: 100% 2000/2000 [01:53<00:00, 17.57 step/s, accuracy=0.91, loss=0.44, step=18000]\n",
      "Valid: 100% 6944/6944 [00:04<00:00, 1674.12 uttr/s, accuracy=0.72, loss=1.18]\n",
      "Train: 100% 2000/2000 [01:57<00:00, 16.96 step/s, accuracy=0.84, loss=0.38, step=2e+4] \n",
      "Valid: 100% 6944/6944 [00:03<00:00, 2180.89 uttr/s, accuracy=0.74, loss=1.09]\n",
      "Train:   0% 3/2000 [00:00<02:06, 15.75 step/s, accuracy=0.75, loss=0.81, step=2e+4]"
     ]
    },
    {
     "name": "stdout",
     "output_type": "stream",
     "text": [
      "Step 20000, best model saved. (accuracy=0.7398)\n"
     ]
    },
    {
     "name": "stderr",
     "output_type": "stream",
     "text": [
      "Train: 100% 2000/2000 [01:53<00:00, 17.67 step/s, accuracy=0.94, loss=0.33, step=22000]\n",
      "Valid: 100% 6944/6944 [00:03<00:00, 2164.35 uttr/s, accuracy=0.74, loss=1.09]\n",
      "Train: 100% 2000/2000 [02:00<00:00, 16.63 step/s, accuracy=0.75, loss=0.82, step=24000]\n",
      "Valid: 100% 6944/6944 [00:03<00:00, 2234.60 uttr/s, accuracy=0.76, loss=0.99]\n",
      "Train: 100% 2000/2000 [01:53<00:00, 17.63 step/s, accuracy=0.91, loss=0.35, step=26000]\n",
      "Valid: 100% 6944/6944 [00:03<00:00, 2209.34 uttr/s, accuracy=0.76, loss=1.00]\n",
      "Train: 100% 2000/2000 [01:54<00:00, 17.47 step/s, accuracy=0.81, loss=0.92, step=28000]\n",
      "Valid: 100% 6944/6944 [00:03<00:00, 2186.08 uttr/s, accuracy=0.77, loss=0.95]\n",
      "Train: 100% 2000/2000 [01:50<00:00, 18.15 step/s, accuracy=0.88, loss=0.50, step=3e+4] \n",
      "Valid: 100% 6944/6944 [00:03<00:00, 2254.15 uttr/s, accuracy=0.78, loss=0.95]\n",
      "Train:   0% 3/2000 [00:00<02:02, 16.30 step/s, accuracy=0.78, loss=0.76, step=3e+4]"
     ]
    },
    {
     "name": "stdout",
     "output_type": "stream",
     "text": [
      "Step 30000, best model saved. (accuracy=0.7771)\n"
     ]
    },
    {
     "name": "stderr",
     "output_type": "stream",
     "text": [
      "Train: 100% 2000/2000 [01:56<00:00, 17.20 step/s, accuracy=0.84, loss=0.51, step=32000]\n",
      "Valid: 100% 6944/6944 [00:04<00:00, 1682.07 uttr/s, accuracy=0.79, loss=0.88]\n",
      "Train: 100% 2000/2000 [01:56<00:00, 17.14 step/s, accuracy=0.84, loss=0.62, step=34000]\n",
      "Valid: 100% 6944/6944 [00:03<00:00, 1775.14 uttr/s, accuracy=0.79, loss=0.91]\n",
      "Train: 100% 2000/2000 [01:58<00:00, 16.81 step/s, accuracy=0.88, loss=0.59, step=36000]\n",
      "Valid: 100% 6944/6944 [00:03<00:00, 2010.07 uttr/s, accuracy=0.80, loss=0.82]\n",
      "Train: 100% 2000/2000 [02:00<00:00, 16.58 step/s, accuracy=0.84, loss=0.31, step=38000]\n",
      "Valid: 100% 6944/6944 [00:03<00:00, 1789.39 uttr/s, accuracy=0.80, loss=0.83]\n",
      "Train: 100% 2000/2000 [01:35<00:00, 20.88 step/s, accuracy=0.94, loss=0.26, step=4e+4] \n",
      "Valid: 100% 6944/6944 [00:02<00:00, 2605.38 uttr/s, accuracy=0.80, loss=0.83]\n",
      "Train:   0% 4/2000 [00:00<01:43, 19.35 step/s, accuracy=1.00, loss=0.16, step=4e+4]"
     ]
    },
    {
     "name": "stdout",
     "output_type": "stream",
     "text": [
      "Step 40000, best model saved. (accuracy=0.8014)\n"
     ]
    },
    {
     "name": "stderr",
     "output_type": "stream",
     "text": [
      "Train: 100% 2000/2000 [01:23<00:00, 24.10 step/s, accuracy=0.94, loss=0.32, step=42000]\n",
      "Valid: 100% 6944/6944 [00:02<00:00, 2484.26 uttr/s, accuracy=0.81, loss=0.77]\n",
      "Train: 100% 2000/2000 [01:07<00:00, 29.61 step/s, accuracy=0.91, loss=0.31, step=44000]\n",
      "Valid: 100% 6944/6944 [00:01<00:00, 3735.92 uttr/s, accuracy=0.82, loss=0.77]\n",
      "Train: 100% 2000/2000 [00:53<00:00, 37.54 step/s, accuracy=0.94, loss=0.22, step=46000]\n",
      "Valid: 100% 6944/6944 [00:01<00:00, 4007.20 uttr/s, accuracy=0.82, loss=0.78]\n",
      "Train: 100% 2000/2000 [00:57<00:00, 34.86 step/s, accuracy=0.91, loss=0.34, step=48000]\n",
      "Valid: 100% 6944/6944 [00:01<00:00, 3802.18 uttr/s, accuracy=0.82, loss=0.74]\n",
      "Train: 100% 2000/2000 [00:57<00:00, 34.94 step/s, accuracy=1.00, loss=0.07, step=5e+4] \n",
      "Valid: 100% 6944/6944 [00:01<00:00, 3698.63 uttr/s, accuracy=0.83, loss=0.72]\n",
      "Train:   0% 7/2000 [00:00<00:57, 34.92 step/s, accuracy=0.81, loss=0.46, step=5e+4]"
     ]
    },
    {
     "name": "stdout",
     "output_type": "stream",
     "text": [
      "Step 50000, best model saved. (accuracy=0.8332)\n"
     ]
    },
    {
     "name": "stderr",
     "output_type": "stream",
     "text": [
      "Train: 100% 2000/2000 [01:11<00:00, 27.93 step/s, accuracy=0.91, loss=0.39, step=52000]\n",
      "Valid: 100% 6944/6944 [00:01<00:00, 4071.72 uttr/s, accuracy=0.83, loss=0.71]\n",
      "Train: 100% 2000/2000 [00:57<00:00, 35.02 step/s, accuracy=0.91, loss=0.51, step=54000]\n",
      "Valid: 100% 6944/6944 [00:01<00:00, 3760.01 uttr/s, accuracy=0.84, loss=0.69]\n",
      "Train: 100% 2000/2000 [01:05<00:00, 30.41 step/s, accuracy=0.97, loss=0.11, step=56000]\n",
      "Valid: 100% 6944/6944 [00:02<00:00, 2849.79 uttr/s, accuracy=0.85, loss=0.68]\n",
      "Train: 100% 2000/2000 [01:19<00:00, 25.16 step/s, accuracy=0.91, loss=0.44, step=58000]\n",
      "Valid: 100% 6944/6944 [00:02<00:00, 2794.32 uttr/s, accuracy=0.84, loss=0.68]\n",
      "Train: 100% 2000/2000 [01:23<00:00, 23.82 step/s, accuracy=0.88, loss=0.37, step=6e+4] \n",
      "Valid: 100% 6944/6944 [00:02<00:00, 2757.79 uttr/s, accuracy=0.85, loss=0.65]\n",
      "Train:   0% 4/2000 [00:00<01:47, 18.62 step/s, accuracy=0.97, loss=0.32, step=6e+4]"
     ]
    },
    {
     "name": "stdout",
     "output_type": "stream",
     "text": [
      "Step 60000, best model saved. (accuracy=0.8499)\n"
     ]
    },
    {
     "name": "stderr",
     "output_type": "stream",
     "text": [
      "Train: 100% 2000/2000 [01:22<00:00, 24.30 step/s, accuracy=0.94, loss=0.43, step=62000]\n",
      "Valid: 100% 6944/6944 [00:02<00:00, 2717.86 uttr/s, accuracy=0.85, loss=0.66]\n",
      "Train: 100% 2000/2000 [01:19<00:00, 25.14 step/s, accuracy=0.97, loss=0.22, step=64000]\n",
      "Valid: 100% 6944/6944 [00:02<00:00, 2782.42 uttr/s, accuracy=0.85, loss=0.64]\n",
      "Train: 100% 2000/2000 [01:18<00:00, 25.37 step/s, accuracy=1.00, loss=0.05, step=66000]\n",
      "Valid: 100% 6944/6944 [00:02<00:00, 2772.70 uttr/s, accuracy=0.85, loss=0.61]\n",
      "Train: 100% 2000/2000 [01:19<00:00, 25.06 step/s, accuracy=0.88, loss=0.33, step=68000]\n",
      "Valid: 100% 6944/6944 [00:02<00:00, 2893.65 uttr/s, accuracy=0.86, loss=0.62]\n",
      "Train: 100% 2000/2000 [01:21<00:00, 24.39 step/s, accuracy=1.00, loss=0.03, step=7e+4] \n",
      "Valid: 100% 6944/6944 [00:02<00:00, 2694.41 uttr/s, accuracy=0.86, loss=0.60]\n",
      "Train:   0% 4/2000 [00:00<01:40, 19.86 step/s, accuracy=0.91, loss=0.16, step=7e+4]"
     ]
    },
    {
     "name": "stdout",
     "output_type": "stream",
     "text": [
      "Step 70000, best model saved. (accuracy=0.8594)\n"
     ]
    },
    {
     "name": "stderr",
     "output_type": "stream",
     "text": [
      "Train: 100% 2000/2000 [01:21<00:00, 24.47 step/s, accuracy=1.00, loss=0.09, step=72000]\n",
      "Valid: 100% 6944/6944 [00:02<00:00, 2756.67 uttr/s, accuracy=0.86, loss=0.58]\n",
      "Train: 100% 2000/2000 [01:24<00:00, 23.73 step/s, accuracy=0.97, loss=0.08, step=74000]\n",
      "Valid: 100% 6944/6944 [00:02<00:00, 2748.83 uttr/s, accuracy=0.87, loss=0.58]\n",
      "Train: 100% 2000/2000 [01:19<00:00, 25.27 step/s, accuracy=1.00, loss=0.10, step=76000]\n",
      "Valid: 100% 6944/6944 [00:02<00:00, 2944.39 uttr/s, accuracy=0.87, loss=0.57]\n",
      "Train: 100% 2000/2000 [01:22<00:00, 24.19 step/s, accuracy=1.00, loss=0.06, step=78000]\n",
      "Valid: 100% 6944/6944 [00:02<00:00, 2823.09 uttr/s, accuracy=0.87, loss=0.56]\n",
      "Train: 100% 2000/2000 [01:23<00:00, 24.08 step/s, accuracy=0.91, loss=0.14, step=8e+4] \n",
      "Valid: 100% 6944/6944 [00:02<00:00, 2825.38 uttr/s, accuracy=0.87, loss=0.56]\n",
      "Train:   0% 4/2000 [00:00<01:34, 21.15 step/s, accuracy=0.97, loss=0.13, step=8e+4]"
     ]
    },
    {
     "name": "stdout",
     "output_type": "stream",
     "text": [
      "Step 80000, best model saved. (accuracy=0.8700)\n"
     ]
    },
    {
     "name": "stderr",
     "output_type": "stream",
     "text": [
      "Train: 100% 2000/2000 [01:21<00:00, 24.58 step/s, accuracy=1.00, loss=0.11, step=82000]\n",
      "Valid: 100% 6944/6944 [00:02<00:00, 2862.74 uttr/s, accuracy=0.87, loss=0.54]\n",
      "Train: 100% 2000/2000 [01:20<00:00, 24.92 step/s, accuracy=0.97, loss=0.08, step=84000]\n",
      "Valid: 100% 6944/6944 [00:02<00:00, 2801.83 uttr/s, accuracy=0.87, loss=0.54]\n",
      "Train: 100% 2000/2000 [01:19<00:00, 25.27 step/s, accuracy=0.91, loss=0.24, step=86000]\n",
      "Valid: 100% 6944/6944 [00:02<00:00, 2856.65 uttr/s, accuracy=0.88, loss=0.51]\n",
      "Train: 100% 2000/2000 [01:50<00:00, 18.06 step/s, accuracy=0.97, loss=0.09, step=88000]\n",
      "Valid: 100% 6944/6944 [00:03<00:00, 2069.42 uttr/s, accuracy=0.88, loss=0.52]\n",
      "Train: 100% 2000/2000 [01:58<00:00, 16.82 step/s, accuracy=1.00, loss=0.08, step=9e+4] \n",
      "Valid: 100% 6944/6944 [00:03<00:00, 2123.80 uttr/s, accuracy=0.88, loss=0.53]\n",
      "Train:   0% 3/2000 [00:00<02:13, 14.94 step/s, accuracy=0.97, loss=0.09, step=9e+4]"
     ]
    },
    {
     "name": "stdout",
     "output_type": "stream",
     "text": [
      "Step 90000, best model saved. (accuracy=0.8815)\n"
     ]
    },
    {
     "name": "stderr",
     "output_type": "stream",
     "text": [
      "Train: 100% 2000/2000 [02:00<00:00, 16.65 step/s, accuracy=0.94, loss=0.18, step=92000]\n",
      "Valid: 100% 6944/6944 [00:03<00:00, 2127.22 uttr/s, accuracy=0.88, loss=0.53]\n",
      "Train: 100% 2000/2000 [02:00<00:00, 16.59 step/s, accuracy=1.00, loss=0.04, step=94000]\n",
      "Valid: 100% 6944/6944 [00:03<00:00, 2058.55 uttr/s, accuracy=0.88, loss=0.52]\n",
      "Train: 100% 2000/2000 [01:59<00:00, 16.67 step/s, accuracy=1.00, loss=0.06, step=96000]\n",
      "Valid: 100% 6944/6944 [00:03<00:00, 2102.02 uttr/s, accuracy=0.87, loss=0.54]\n",
      "Train: 100% 2000/2000 [02:01<00:00, 16.50 step/s, accuracy=1.00, loss=0.03, step=98000]\n",
      "Valid: 100% 6944/6944 [00:03<00:00, 2102.85 uttr/s, accuracy=0.87, loss=0.55]\n",
      "Train: 100% 2000/2000 [01:58<00:00, 16.85 step/s, accuracy=1.00, loss=0.09, step=1e+5] \n",
      "Valid: 100% 6944/6944 [00:03<00:00, 1786.58 uttr/s, accuracy=0.88, loss=0.51]\n",
      "Train:   0% 0/2000 [00:00<?, ? step/s]\n"
     ]
    },
    {
     "name": "stdout",
     "output_type": "stream",
     "text": [
      "Step 100000, best model saved. (accuracy=0.8815)\n"
     ]
    }
   ],
   "source": [
    "from tqdm import tqdm\n",
    "\n",
    "import torch\n",
    "import torch.nn as nn\n",
    "from torch.optim import AdamW\n",
    "from torch.utils.data import DataLoader, random_split\n",
    "\n",
    "\n",
    "def parse_args():\n",
    "    \"\"\"arguments\"\"\"\n",
    "    config = {\n",
    "        \"data_dir\": \"./Dataset\",\n",
    "        \"save_path\": model_name,\n",
    "        \"batch_size\": 32,\n",
    "        \"n_workers\": 2,\n",
    "        \"valid_steps\": 2000,\n",
    "        \"warmup_steps\": 1000,\n",
    "        \"save_steps\": 10000,\n",
    "        \"total_steps\": 120000,\n",
    "    }\n",
    "\n",
    "    return config\n",
    "\n",
    "\n",
    "def main(\n",
    "    data_dir,\n",
    "    save_path,\n",
    "    batch_size,\n",
    "    n_workers,\n",
    "    valid_steps,\n",
    "    warmup_steps,\n",
    "    total_steps,\n",
    "    save_steps,\n",
    "):\n",
    "    \"\"\"Main function.\"\"\"\n",
    "    device = torch.device(\"cuda\" if torch.cuda.is_available() else \"cpu\")\n",
    "    print(f\"[Info]: Use {device} now!\")\n",
    "\n",
    "    train_loader, valid_loader, speaker_num = get_dataloader(\n",
    "        data_dir, batch_size, n_workers)\n",
    "    train_iterator = iter(train_loader)\n",
    "    print(f\"[Info]: Finish loading data!\", flush=True)\n",
    "\n",
    "    model = Classifier(n_spks=speaker_num).to(device)\n",
    "    criterion = nn.CrossEntropyLoss()\n",
    "    optimizer = AdamW(model.parameters(), lr=1e-3)\n",
    "    scheduler = get_cosine_schedule_with_warmup(optimizer, warmup_steps,\n",
    "                                                total_steps)\n",
    "    print(f\"[Info]: Finish creating model!\", flush=True)\n",
    "\n",
    "    best_accuracy = -1.0\n",
    "    best_state_dict = None\n",
    "\n",
    "    pbar = tqdm(total=valid_steps, ncols=0, desc=\"Train\", unit=\" step\")\n",
    "\n",
    "    for step in range(total_steps):\n",
    "        # Get data\n",
    "        try:\n",
    "            batch = next(train_iterator)\n",
    "        except StopIteration:\n",
    "            train_iterator = iter(train_loader)\n",
    "            batch = next(train_iterator)\n",
    "\n",
    "        loss, accuracy = model_fn(batch, model, criterion, device)\n",
    "        batch_loss = loss.item()\n",
    "        batch_accuracy = accuracy.item()\n",
    "\n",
    "        # Updata model\n",
    "        loss.backward()\n",
    "        optimizer.step()\n",
    "        scheduler.step()\n",
    "        optimizer.zero_grad()\n",
    "\n",
    "        # Log\n",
    "        pbar.update()\n",
    "        pbar.set_postfix(\n",
    "            loss=f\"{batch_loss:.2f}\",\n",
    "            accuracy=f\"{batch_accuracy:.2f}\",\n",
    "            step=step + 1,\n",
    "        )\n",
    "\n",
    "        # Do validation\n",
    "        if (step + 1) % valid_steps == 0:\n",
    "            pbar.close()\n",
    "\n",
    "            valid_accuracy = valid(valid_loader, model, criterion, device)\n",
    "\n",
    "            # keep the best model\n",
    "            if valid_accuracy > best_accuracy:\n",
    "                best_accuracy = valid_accuracy\n",
    "                best_state_dict = model.state_dict()\n",
    "\n",
    "            pbar = tqdm(total=valid_steps, ncols=0, desc=\"Train\", unit=\" step\")\n",
    "\n",
    "        # Save the best model so far.\n",
    "        if (step + 1) % save_steps == 0 and best_state_dict is not None:\n",
    "            torch.save(best_state_dict, save_path)\n",
    "            pbar.write(\n",
    "                f\"Step {step + 1}, best model saved. (accuracy={best_accuracy:.4f})\"\n",
    "            )\n",
    "\n",
    "    pbar.close()\n",
    "\n",
    "\n",
    "if __name__ == \"__main__\":\n",
    "    main(**parse_args())"
   ]
  },
  {
   "cell_type": "markdown",
   "metadata": {
    "id": "0R2rx3AyHpQ-"
   },
   "source": [
    "# Inference"
   ]
  },
  {
   "cell_type": "markdown",
   "metadata": {
    "id": "pSuI3WY9Fz78"
   },
   "source": [
    "## Dataset of inference"
   ]
  },
  {
   "cell_type": "code",
   "execution_count": 10,
   "metadata": {
    "id": "4evns0055Dsx"
   },
   "outputs": [],
   "source": [
    "import os\n",
    "import json\n",
    "import torch\n",
    "from pathlib import Path\n",
    "from torch.utils.data import Dataset\n",
    "\n",
    "\n",
    "class InferenceDataset(Dataset):\n",
    "    def __init__(self, data_dir):\n",
    "        testdata_path = Path(data_dir) / \"testdata.json\"\n",
    "        metadata = json.load(testdata_path.open())\n",
    "        self.data_dir = data_dir\n",
    "        self.data = metadata[\"utterances\"]\n",
    "\n",
    "    def __len__(self):\n",
    "        return len(self.data)\n",
    "\n",
    "    def __getitem__(self, index):\n",
    "        utterance = self.data[index]\n",
    "        feat_path = utterance[\"feature_path\"]\n",
    "        mel = torch.load(os.path.join(self.data_dir, feat_path))\n",
    "\n",
    "        return feat_path, mel\n",
    "\n",
    "\n",
    "def inference_collate_batch(batch):\n",
    "    \"\"\"Collate a batch of data.\"\"\"\n",
    "    feat_paths, mels = zip(*batch)\n",
    "\n",
    "    return feat_paths, torch.stack(mels)"
   ]
  },
  {
   "cell_type": "markdown",
   "metadata": {
    "id": "oAinHBG1GIWv"
   },
   "source": [
    "## Main funcrion of Inference"
   ]
  },
  {
   "cell_type": "code",
   "execution_count": 11,
   "metadata": {},
   "outputs": [
    {
     "name": "stdout",
     "output_type": "stream",
     "text": [
      "[Info]: Use cuda now!\n",
      "[Info]: Finish loading data!\n",
      "[Info]: Finish creating model!\n"
     ]
    },
    {
     "data": {
      "application/vnd.jupyter.widget-view+json": {
       "model_id": "d3ecf3e13d224058a0c4d1306df90da7",
       "version_major": 2,
       "version_minor": 0
      },
      "text/plain": [
       "  0%|          | 0/6000 [00:00<?, ?it/s]"
      ]
     },
     "metadata": {},
     "output_type": "display_data"
    },
    {
     "ename": "RuntimeError",
     "evalue": "mat1 dim 1 must match mat2 dim 0",
     "output_type": "error",
     "traceback": [
      "\u001b[0;31m---------------------------------------------------------------------------\u001b[0m",
      "\u001b[0;31mRuntimeError\u001b[0m                              Traceback (most recent call last)",
      "\u001b[0;32m<ipython-input-11-098911d3add4>\u001b[0m in \u001b[0;36m<module>\u001b[0;34m\u001b[0m\n\u001b[1;32m     63\u001b[0m \u001b[0;34m\u001b[0m\u001b[0m\n\u001b[1;32m     64\u001b[0m \u001b[0;32mif\u001b[0m \u001b[0m__name__\u001b[0m \u001b[0;34m==\u001b[0m \u001b[0;34m\"__main__\"\u001b[0m\u001b[0;34m:\u001b[0m\u001b[0;34m\u001b[0m\u001b[0;34m\u001b[0m\u001b[0m\n\u001b[0;32m---> 65\u001b[0;31m     \u001b[0mmain\u001b[0m\u001b[0;34m(\u001b[0m\u001b[0;34m**\u001b[0m\u001b[0mparse_args\u001b[0m\u001b[0;34m(\u001b[0m\u001b[0;34m)\u001b[0m\u001b[0;34m)\u001b[0m\u001b[0;34m\u001b[0m\u001b[0;34m\u001b[0m\u001b[0m\n\u001b[0m",
      "\u001b[0;32m<ipython-input-11-098911d3add4>\u001b[0m in \u001b[0;36mmain\u001b[0;34m(data_dir, model_path, output_path)\u001b[0m\n\u001b[1;32m     52\u001b[0m         \u001b[0;32mwith\u001b[0m \u001b[0mtorch\u001b[0m\u001b[0;34m.\u001b[0m\u001b[0mno_grad\u001b[0m\u001b[0;34m(\u001b[0m\u001b[0;34m)\u001b[0m\u001b[0;34m:\u001b[0m\u001b[0;34m\u001b[0m\u001b[0;34m\u001b[0m\u001b[0m\n\u001b[1;32m     53\u001b[0m             \u001b[0mmels\u001b[0m \u001b[0;34m=\u001b[0m \u001b[0mmels\u001b[0m\u001b[0;34m.\u001b[0m\u001b[0mto\u001b[0m\u001b[0;34m(\u001b[0m\u001b[0mdevice\u001b[0m\u001b[0;34m)\u001b[0m\u001b[0;34m\u001b[0m\u001b[0;34m\u001b[0m\u001b[0m\n\u001b[0;32m---> 54\u001b[0;31m             \u001b[0mouts\u001b[0m \u001b[0;34m=\u001b[0m \u001b[0mmodel\u001b[0m\u001b[0;34m(\u001b[0m\u001b[0mmels\u001b[0m\u001b[0;34m)\u001b[0m\u001b[0;34m\u001b[0m\u001b[0;34m\u001b[0m\u001b[0m\n\u001b[0m\u001b[1;32m     55\u001b[0m             \u001b[0mpreds\u001b[0m \u001b[0;34m=\u001b[0m \u001b[0mouts\u001b[0m\u001b[0;34m.\u001b[0m\u001b[0margmax\u001b[0m\u001b[0;34m(\u001b[0m\u001b[0;36m1\u001b[0m\u001b[0;34m)\u001b[0m\u001b[0;34m.\u001b[0m\u001b[0mcpu\u001b[0m\u001b[0;34m(\u001b[0m\u001b[0;34m)\u001b[0m\u001b[0;34m.\u001b[0m\u001b[0mnumpy\u001b[0m\u001b[0;34m(\u001b[0m\u001b[0;34m)\u001b[0m\u001b[0;34m\u001b[0m\u001b[0;34m\u001b[0m\u001b[0m\n\u001b[1;32m     56\u001b[0m             \u001b[0;32mfor\u001b[0m \u001b[0mfeat_path\u001b[0m\u001b[0;34m,\u001b[0m \u001b[0mpred\u001b[0m \u001b[0;32min\u001b[0m \u001b[0mzip\u001b[0m\u001b[0;34m(\u001b[0m\u001b[0mfeat_paths\u001b[0m\u001b[0;34m,\u001b[0m \u001b[0mpreds\u001b[0m\u001b[0;34m)\u001b[0m\u001b[0;34m:\u001b[0m\u001b[0;34m\u001b[0m\u001b[0;34m\u001b[0m\u001b[0m\n",
      "\u001b[0;32m~/virtual_env/py371/lib/python3.7/site-packages/torch-1.7.1-py3.7-linux-x86_64.egg/torch/nn/modules/module.py\u001b[0m in \u001b[0;36m_call_impl\u001b[0;34m(self, *input, **kwargs)\u001b[0m\n\u001b[1;32m    725\u001b[0m             \u001b[0mresult\u001b[0m \u001b[0;34m=\u001b[0m \u001b[0mself\u001b[0m\u001b[0;34m.\u001b[0m\u001b[0m_slow_forward\u001b[0m\u001b[0;34m(\u001b[0m\u001b[0;34m*\u001b[0m\u001b[0minput\u001b[0m\u001b[0;34m,\u001b[0m \u001b[0;34m**\u001b[0m\u001b[0mkwargs\u001b[0m\u001b[0;34m)\u001b[0m\u001b[0;34m\u001b[0m\u001b[0;34m\u001b[0m\u001b[0m\n\u001b[1;32m    726\u001b[0m         \u001b[0;32melse\u001b[0m\u001b[0;34m:\u001b[0m\u001b[0;34m\u001b[0m\u001b[0;34m\u001b[0m\u001b[0m\n\u001b[0;32m--> 727\u001b[0;31m             \u001b[0mresult\u001b[0m \u001b[0;34m=\u001b[0m \u001b[0mself\u001b[0m\u001b[0;34m.\u001b[0m\u001b[0mforward\u001b[0m\u001b[0;34m(\u001b[0m\u001b[0;34m*\u001b[0m\u001b[0minput\u001b[0m\u001b[0;34m,\u001b[0m \u001b[0;34m**\u001b[0m\u001b[0mkwargs\u001b[0m\u001b[0;34m)\u001b[0m\u001b[0;34m\u001b[0m\u001b[0;34m\u001b[0m\u001b[0m\n\u001b[0m\u001b[1;32m    728\u001b[0m         for hook in itertools.chain(\n\u001b[1;32m    729\u001b[0m                 \u001b[0m_global_forward_hooks\u001b[0m\u001b[0;34m.\u001b[0m\u001b[0mvalues\u001b[0m\u001b[0;34m(\u001b[0m\u001b[0;34m)\u001b[0m\u001b[0;34m,\u001b[0m\u001b[0;34m\u001b[0m\u001b[0;34m\u001b[0m\u001b[0m\n",
      "\u001b[0;32m<ipython-input-5-395e61c692bd>\u001b[0m in \u001b[0;36mforward\u001b[0;34m(self, mels)\u001b[0m\n\u001b[1;32m     69\u001b[0m \u001b[0;31m#         out = out.mean(dim=1)\u001b[0m\u001b[0;34m\u001b[0m\u001b[0;34m\u001b[0m\u001b[0;34m\u001b[0m\u001b[0m\n\u001b[1;32m     70\u001b[0m         \u001b[0;31m# out: (batch, n_spks)\u001b[0m\u001b[0;34m\u001b[0m\u001b[0;34m\u001b[0m\u001b[0;34m\u001b[0m\u001b[0m\n\u001b[0;32m---> 71\u001b[0;31m         \u001b[0mout\u001b[0m \u001b[0;34m=\u001b[0m \u001b[0mself\u001b[0m\u001b[0;34m.\u001b[0m\u001b[0mpred_layer\u001b[0m\u001b[0;34m(\u001b[0m\u001b[0mout\u001b[0m\u001b[0;34m)\u001b[0m\u001b[0;34m\u001b[0m\u001b[0;34m\u001b[0m\u001b[0m\n\u001b[0m\u001b[1;32m     72\u001b[0m         \u001b[0;32mreturn\u001b[0m \u001b[0mout\u001b[0m\u001b[0;34m\u001b[0m\u001b[0;34m\u001b[0m\u001b[0m\n",
      "\u001b[0;32m~/virtual_env/py371/lib/python3.7/site-packages/torch-1.7.1-py3.7-linux-x86_64.egg/torch/nn/modules/module.py\u001b[0m in \u001b[0;36m_call_impl\u001b[0;34m(self, *input, **kwargs)\u001b[0m\n\u001b[1;32m    725\u001b[0m             \u001b[0mresult\u001b[0m \u001b[0;34m=\u001b[0m \u001b[0mself\u001b[0m\u001b[0;34m.\u001b[0m\u001b[0m_slow_forward\u001b[0m\u001b[0;34m(\u001b[0m\u001b[0;34m*\u001b[0m\u001b[0minput\u001b[0m\u001b[0;34m,\u001b[0m \u001b[0;34m**\u001b[0m\u001b[0mkwargs\u001b[0m\u001b[0;34m)\u001b[0m\u001b[0;34m\u001b[0m\u001b[0;34m\u001b[0m\u001b[0m\n\u001b[1;32m    726\u001b[0m         \u001b[0;32melse\u001b[0m\u001b[0;34m:\u001b[0m\u001b[0;34m\u001b[0m\u001b[0;34m\u001b[0m\u001b[0m\n\u001b[0;32m--> 727\u001b[0;31m             \u001b[0mresult\u001b[0m \u001b[0;34m=\u001b[0m \u001b[0mself\u001b[0m\u001b[0;34m.\u001b[0m\u001b[0mforward\u001b[0m\u001b[0;34m(\u001b[0m\u001b[0;34m*\u001b[0m\u001b[0minput\u001b[0m\u001b[0;34m,\u001b[0m \u001b[0;34m**\u001b[0m\u001b[0mkwargs\u001b[0m\u001b[0;34m)\u001b[0m\u001b[0;34m\u001b[0m\u001b[0;34m\u001b[0m\u001b[0m\n\u001b[0m\u001b[1;32m    728\u001b[0m         for hook in itertools.chain(\n\u001b[1;32m    729\u001b[0m                 \u001b[0m_global_forward_hooks\u001b[0m\u001b[0;34m.\u001b[0m\u001b[0mvalues\u001b[0m\u001b[0;34m(\u001b[0m\u001b[0;34m)\u001b[0m\u001b[0;34m,\u001b[0m\u001b[0;34m\u001b[0m\u001b[0;34m\u001b[0m\u001b[0m\n",
      "\u001b[0;32m~/virtual_env/py371/lib/python3.7/site-packages/torch-1.7.1-py3.7-linux-x86_64.egg/torch/nn/modules/container.py\u001b[0m in \u001b[0;36mforward\u001b[0;34m(self, input)\u001b[0m\n\u001b[1;32m    115\u001b[0m     \u001b[0;32mdef\u001b[0m \u001b[0mforward\u001b[0m\u001b[0;34m(\u001b[0m\u001b[0mself\u001b[0m\u001b[0;34m,\u001b[0m \u001b[0minput\u001b[0m\u001b[0;34m)\u001b[0m\u001b[0;34m:\u001b[0m\u001b[0;34m\u001b[0m\u001b[0;34m\u001b[0m\u001b[0m\n\u001b[1;32m    116\u001b[0m         \u001b[0;32mfor\u001b[0m \u001b[0mmodule\u001b[0m \u001b[0;32min\u001b[0m \u001b[0mself\u001b[0m\u001b[0;34m:\u001b[0m\u001b[0;34m\u001b[0m\u001b[0;34m\u001b[0m\u001b[0m\n\u001b[0;32m--> 117\u001b[0;31m             \u001b[0minput\u001b[0m \u001b[0;34m=\u001b[0m \u001b[0mmodule\u001b[0m\u001b[0;34m(\u001b[0m\u001b[0minput\u001b[0m\u001b[0;34m)\u001b[0m\u001b[0;34m\u001b[0m\u001b[0;34m\u001b[0m\u001b[0m\n\u001b[0m\u001b[1;32m    118\u001b[0m         \u001b[0;32mreturn\u001b[0m \u001b[0minput\u001b[0m\u001b[0;34m\u001b[0m\u001b[0;34m\u001b[0m\u001b[0m\n\u001b[1;32m    119\u001b[0m \u001b[0;34m\u001b[0m\u001b[0m\n",
      "\u001b[0;32m~/virtual_env/py371/lib/python3.7/site-packages/torch-1.7.1-py3.7-linux-x86_64.egg/torch/nn/modules/module.py\u001b[0m in \u001b[0;36m_call_impl\u001b[0;34m(self, *input, **kwargs)\u001b[0m\n\u001b[1;32m    725\u001b[0m             \u001b[0mresult\u001b[0m \u001b[0;34m=\u001b[0m \u001b[0mself\u001b[0m\u001b[0;34m.\u001b[0m\u001b[0m_slow_forward\u001b[0m\u001b[0;34m(\u001b[0m\u001b[0;34m*\u001b[0m\u001b[0minput\u001b[0m\u001b[0;34m,\u001b[0m \u001b[0;34m**\u001b[0m\u001b[0mkwargs\u001b[0m\u001b[0;34m)\u001b[0m\u001b[0;34m\u001b[0m\u001b[0;34m\u001b[0m\u001b[0m\n\u001b[1;32m    726\u001b[0m         \u001b[0;32melse\u001b[0m\u001b[0;34m:\u001b[0m\u001b[0;34m\u001b[0m\u001b[0;34m\u001b[0m\u001b[0m\n\u001b[0;32m--> 727\u001b[0;31m             \u001b[0mresult\u001b[0m \u001b[0;34m=\u001b[0m \u001b[0mself\u001b[0m\u001b[0;34m.\u001b[0m\u001b[0mforward\u001b[0m\u001b[0;34m(\u001b[0m\u001b[0;34m*\u001b[0m\u001b[0minput\u001b[0m\u001b[0;34m,\u001b[0m \u001b[0;34m**\u001b[0m\u001b[0mkwargs\u001b[0m\u001b[0;34m)\u001b[0m\u001b[0;34m\u001b[0m\u001b[0;34m\u001b[0m\u001b[0m\n\u001b[0m\u001b[1;32m    728\u001b[0m         for hook in itertools.chain(\n\u001b[1;32m    729\u001b[0m                 \u001b[0m_global_forward_hooks\u001b[0m\u001b[0;34m.\u001b[0m\u001b[0mvalues\u001b[0m\u001b[0;34m(\u001b[0m\u001b[0;34m)\u001b[0m\u001b[0;34m,\u001b[0m\u001b[0;34m\u001b[0m\u001b[0;34m\u001b[0m\u001b[0m\n",
      "\u001b[0;32m~/virtual_env/py371/lib/python3.7/site-packages/torch-1.7.1-py3.7-linux-x86_64.egg/torch/nn/modules/linear.py\u001b[0m in \u001b[0;36mforward\u001b[0;34m(self, input)\u001b[0m\n\u001b[1;32m     91\u001b[0m \u001b[0;34m\u001b[0m\u001b[0m\n\u001b[1;32m     92\u001b[0m     \u001b[0;32mdef\u001b[0m \u001b[0mforward\u001b[0m\u001b[0;34m(\u001b[0m\u001b[0mself\u001b[0m\u001b[0;34m,\u001b[0m \u001b[0minput\u001b[0m\u001b[0;34m:\u001b[0m \u001b[0mTensor\u001b[0m\u001b[0;34m)\u001b[0m \u001b[0;34m->\u001b[0m \u001b[0mTensor\u001b[0m\u001b[0;34m:\u001b[0m\u001b[0;34m\u001b[0m\u001b[0;34m\u001b[0m\u001b[0m\n\u001b[0;32m---> 93\u001b[0;31m         \u001b[0;32mreturn\u001b[0m \u001b[0mF\u001b[0m\u001b[0;34m.\u001b[0m\u001b[0mlinear\u001b[0m\u001b[0;34m(\u001b[0m\u001b[0minput\u001b[0m\u001b[0;34m,\u001b[0m \u001b[0mself\u001b[0m\u001b[0;34m.\u001b[0m\u001b[0mweight\u001b[0m\u001b[0;34m,\u001b[0m \u001b[0mself\u001b[0m\u001b[0;34m.\u001b[0m\u001b[0mbias\u001b[0m\u001b[0;34m)\u001b[0m\u001b[0;34m\u001b[0m\u001b[0;34m\u001b[0m\u001b[0m\n\u001b[0m\u001b[1;32m     94\u001b[0m \u001b[0;34m\u001b[0m\u001b[0m\n\u001b[1;32m     95\u001b[0m     \u001b[0;32mdef\u001b[0m \u001b[0mextra_repr\u001b[0m\u001b[0;34m(\u001b[0m\u001b[0mself\u001b[0m\u001b[0;34m)\u001b[0m \u001b[0;34m->\u001b[0m \u001b[0mstr\u001b[0m\u001b[0;34m:\u001b[0m\u001b[0;34m\u001b[0m\u001b[0;34m\u001b[0m\u001b[0m\n",
      "\u001b[0;32m~/virtual_env/py371/lib/python3.7/site-packages/torch-1.7.1-py3.7-linux-x86_64.egg/torch/nn/functional.py\u001b[0m in \u001b[0;36mlinear\u001b[0;34m(input, weight, bias)\u001b[0m\n\u001b[1;32m   1688\u001b[0m     \u001b[0;32mif\u001b[0m \u001b[0minput\u001b[0m\u001b[0;34m.\u001b[0m\u001b[0mdim\u001b[0m\u001b[0;34m(\u001b[0m\u001b[0;34m)\u001b[0m \u001b[0;34m==\u001b[0m \u001b[0;36m2\u001b[0m \u001b[0;32mand\u001b[0m \u001b[0mbias\u001b[0m \u001b[0;32mis\u001b[0m \u001b[0;32mnot\u001b[0m \u001b[0;32mNone\u001b[0m\u001b[0;34m:\u001b[0m\u001b[0;34m\u001b[0m\u001b[0;34m\u001b[0m\u001b[0m\n\u001b[1;32m   1689\u001b[0m         \u001b[0;31m# fused op is marginally faster\u001b[0m\u001b[0;34m\u001b[0m\u001b[0;34m\u001b[0m\u001b[0;34m\u001b[0m\u001b[0m\n\u001b[0;32m-> 1690\u001b[0;31m         \u001b[0mret\u001b[0m \u001b[0;34m=\u001b[0m \u001b[0mtorch\u001b[0m\u001b[0;34m.\u001b[0m\u001b[0maddmm\u001b[0m\u001b[0;34m(\u001b[0m\u001b[0mbias\u001b[0m\u001b[0;34m,\u001b[0m \u001b[0minput\u001b[0m\u001b[0;34m,\u001b[0m \u001b[0mweight\u001b[0m\u001b[0;34m.\u001b[0m\u001b[0mt\u001b[0m\u001b[0;34m(\u001b[0m\u001b[0;34m)\u001b[0m\u001b[0;34m)\u001b[0m\u001b[0;34m\u001b[0m\u001b[0;34m\u001b[0m\u001b[0m\n\u001b[0m\u001b[1;32m   1691\u001b[0m     \u001b[0;32melse\u001b[0m\u001b[0;34m:\u001b[0m\u001b[0;34m\u001b[0m\u001b[0;34m\u001b[0m\u001b[0m\n\u001b[1;32m   1692\u001b[0m         \u001b[0moutput\u001b[0m \u001b[0;34m=\u001b[0m \u001b[0minput\u001b[0m\u001b[0;34m.\u001b[0m\u001b[0mmatmul\u001b[0m\u001b[0;34m(\u001b[0m\u001b[0mweight\u001b[0m\u001b[0;34m.\u001b[0m\u001b[0mt\u001b[0m\u001b[0;34m(\u001b[0m\u001b[0;34m)\u001b[0m\u001b[0;34m)\u001b[0m\u001b[0;34m\u001b[0m\u001b[0;34m\u001b[0m\u001b[0m\n",
      "\u001b[0;31mRuntimeError\u001b[0m: mat1 dim 1 must match mat2 dim 0"
     ]
    }
   ],
   "source": [
    "import json\n",
    "import csv\n",
    "from pathlib import Path\n",
    "from tqdm.notebook import tqdm\n",
    "\n",
    "import torch\n",
    "from torch.utils.data import DataLoader\n",
    "\n",
    "\n",
    "def parse_args():\n",
    "    \"\"\"arguments\"\"\"\n",
    "    config = {\n",
    "        \"data_dir\": \"./Dataset\",\n",
    "        \"model_path\": model_name,\n",
    "        \"output_path\": \"./output_{}.csv\".format(model_name),\n",
    "    }\n",
    "\n",
    "    return config\n",
    "\n",
    "\n",
    "def main(\n",
    "    data_dir,\n",
    "    model_path,\n",
    "    output_path,\n",
    "):\n",
    "    \"\"\"Main function.\"\"\"\n",
    "    device = torch.device(\"cuda\" if torch.cuda.is_available() else \"cpu\")\n",
    "    print(f\"[Info]: Use {device} now!\")\n",
    "\n",
    "    mapping_path = Path(data_dir) / \"mapping.json\"\n",
    "    mapping = json.load(mapping_path.open())\n",
    "\n",
    "    dataset = InferenceDataset(data_dir)\n",
    "    dataloader = DataLoader(\n",
    "        dataset,\n",
    "        batch_size=1,\n",
    "        shuffle=False,\n",
    "        drop_last=False,\n",
    "        num_workers=8,\n",
    "        collate_fn=inference_collate_batch,\n",
    "    )\n",
    "    print(f\"[Info]: Finish loading data!\", flush=True)\n",
    "\n",
    "    speaker_num = len(mapping[\"id2speaker\"])\n",
    "    model = Classifier(n_spks=speaker_num).to(device)\n",
    "    model.load_state_dict(torch.load(model_path))\n",
    "    model.eval()\n",
    "    print(f\"[Info]: Finish creating model!\", flush=True)\n",
    "\n",
    "    results = [[\"Id\", \"Category\"]]\n",
    "    for feat_paths, mels in tqdm(dataloader):\n",
    "        with torch.no_grad():\n",
    "            mels = mels.to(device)\n",
    "            outs = model(mels)\n",
    "            preds = outs.argmax(1).cpu().numpy()\n",
    "            for feat_path, pred in zip(feat_paths, preds):\n",
    "                results.append([feat_path, mapping[\"id2speaker\"][str(pred)]])\n",
    "\n",
    "    with open(output_path, 'w', newline='') as csvfile:\n",
    "        writer = csv.writer(csvfile)\n",
    "        writer.writerows(results)\n",
    "\n",
    "\n",
    "if __name__ == \"__main__\":\n",
    "    main(**parse_args())"
   ]
  },
  {
   "cell_type": "code",
   "execution_count": null,
   "metadata": {},
   "outputs": [],
   "source": []
  }
 ],
 "metadata": {
  "accelerator": "GPU",
  "colab": {
   "collapsed_sections": [],
   "name": "HW04.ipynb",
   "provenance": [],
   "toc_visible": true
  },
  "kernelspec": {
   "display_name": "Python 3",
   "language": "python",
   "name": "python3"
  },
  "language_info": {
   "codemirror_mode": {
    "name": "ipython",
    "version": 3
   },
   "file_extension": ".py",
   "mimetype": "text/x-python",
   "name": "python",
   "nbconvert_exporter": "python",
   "pygments_lexer": "ipython3",
   "version": "3.7.1"
  },
  "toc": {
   "base_numbering": 1,
   "nav_menu": {},
   "number_sections": true,
   "sideBar": true,
   "skip_h1_title": false,
   "title_cell": "Table of Contents",
   "title_sidebar": "Contents",
   "toc_cell": false,
   "toc_position": {},
   "toc_section_display": true,
   "toc_window_display": false
  }
 },
 "nbformat": 4,
 "nbformat_minor": 1
}
